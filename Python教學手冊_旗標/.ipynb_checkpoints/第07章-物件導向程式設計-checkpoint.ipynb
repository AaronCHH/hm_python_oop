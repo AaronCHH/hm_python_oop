{
 "cells": [
  {
   "cell_type": "markdown",
   "id": "IdrgYS86mAJG",
   "metadata": {
    "id": "IdrgYS86mAJG"
   },
   "source": [
    "<font color=#1E8449>☘ </font> 注意事項\n",
    "1. 如果您使用 Colab，在您熟悉 Colab 的操作環境之後，建議把介面改成英文版，以便讓程式碼有最好的顯示效果\n",
    " * 選擇 Colab 功能表裡的 <font color=#E59866>說明</font> - <font color=#E59866>查看英文版本</font> 即可將介面改成英文版\n",
    " * 要改回中文版，請關掉目前開啟的 Colab 網頁，再重新開啟您執行的 Colab 檔案即可（Colab 預設為中文版）\n",
    "2. 建議選擇暗色背景，長時間撰寫程式時眼睛會比較舒服\n",
    " * 在 Colab 裡選擇 <font color=#E59866>Tools（工具）</font> - <font color=#E59866> Settings （設定）</font> - <font color=#E59866> Site（網站）</font> - <font color=#E59866> Theme （主題）</font> - <font color=#E59866> Dark </font>\n",
    " * 在 Jupyter lab 中選擇 <font color=#E59866> Settings </font> - <font color=#E59866> JupyterLab theme </font> - <font color=#E59866> JupyerterLab Dark </font>\n",
    "\n"
   ]
  },
  {
   "cell_type": "markdown",
   "id": "dgnPfr6eoaTJ",
   "metadata": {
    "id": "dgnPfr6eoaTJ"
   },
   "source": [
    "## Chap 07 物件導向程式設計"
   ]
  },
  {
   "cell_type": "markdown",
   "id": "functioning-nevada",
   "metadata": {
    "id": "functioning-nevada"
   },
   "source": [
    "### 7.1 類別的基本概念"
   ]
  },
  {
   "cell_type": "code",
   "execution_count": 1,
   "id": "improved-omega",
   "metadata": {
    "id": "improved-omega"
   },
   "outputs": [],
   "source": [
    "s1 = 'Python'"
   ]
  },
  {
   "cell_type": "code",
   "execution_count": 2,
   "id": "quantitative-tamil",
   "metadata": {
    "colab": {
     "base_uri": "https://localhost:8080/"
    },
    "executionInfo": {
     "elapsed": 58,
     "status": "ok",
     "timestamp": 1650629034738,
     "user": {
      "displayName": "wien hong",
      "userId": "11131435925814580522"
     },
     "user_tz": -480
    },
    "id": "quantitative-tamil",
    "outputId": "d40c2cb7-a496-46e6-a472-8a74b79a5313"
   },
   "outputs": [
    {
     "data": {
      "text/plain": [
       "str"
      ]
     },
     "execution_count": 2,
     "metadata": {},
     "output_type": "execute_result"
    }
   ],
   "source": [
    "type(s1)"
   ]
  },
  {
   "cell_type": "code",
   "execution_count": 3,
   "id": "alive-sixth",
   "metadata": {
    "colab": {
     "base_uri": "https://localhost:8080/",
     "height": 35
    },
    "executionInfo": {
     "elapsed": 342,
     "status": "ok",
     "timestamp": 1650629035071,
     "user": {
      "displayName": "wien hong",
      "userId": "11131435925814580522"
     },
     "user_tz": -480
    },
    "id": "alive-sixth",
    "outputId": "039e9db8-668a-4164-c3e3-3e79dadcc610"
   },
   "outputs": [
    {
     "data": {
      "text/plain": [
       "'PYTHON'"
      ]
     },
     "execution_count": 3,
     "metadata": {},
     "output_type": "execute_result"
    }
   ],
   "source": [
    "s1.upper()"
   ]
  },
  {
   "cell_type": "code",
   "execution_count": 4,
   "id": "elder-gibraltar",
   "metadata": {
    "id": "elder-gibraltar"
   },
   "outputs": [],
   "source": [
    "lst = [2, 9, 6, 6, 7]"
   ]
  },
  {
   "cell_type": "code",
   "execution_count": 5,
   "id": "absolute-cement",
   "metadata": {
    "colab": {
     "base_uri": "https://localhost:8080/"
    },
    "executionInfo": {
     "elapsed": 61,
     "status": "ok",
     "timestamp": 1650629035074,
     "user": {
      "displayName": "wien hong",
      "userId": "11131435925814580522"
     },
     "user_tz": -480
    },
    "id": "absolute-cement",
    "outputId": "43037957-fb84-4a92-b703-bb1370ef6483"
   },
   "outputs": [
    {
     "data": {
      "text/plain": [
       "list"
      ]
     },
     "execution_count": 5,
     "metadata": {},
     "output_type": "execute_result"
    }
   ],
   "source": [
    "type(lst)"
   ]
  },
  {
   "cell_type": "code",
   "execution_count": 6,
   "id": "level-glucose",
   "metadata": {
    "colab": {
     "base_uri": "https://localhost:8080/"
    },
    "executionInfo": {
     "elapsed": 43,
     "status": "ok",
     "timestamp": 1650629035075,
     "user": {
      "displayName": "wien hong",
      "userId": "11131435925814580522"
     },
     "user_tz": -480
    },
    "id": "level-glucose",
    "outputId": "dfeb869a-0961-463c-874d-a15deb11445e"
   },
   "outputs": [
    {
     "data": {
      "text/plain": [
       "2"
      ]
     },
     "execution_count": 6,
     "metadata": {},
     "output_type": "execute_result"
    }
   ],
   "source": [
    "lst.count(6)"
   ]
  },
  {
   "cell_type": "code",
   "execution_count": 7,
   "id": "thick-affairs",
   "metadata": {
    "colab": {
     "base_uri": "https://localhost:8080/"
    },
    "executionInfo": {
     "elapsed": 40,
     "status": "ok",
     "timestamp": 1650629035077,
     "user": {
      "displayName": "wien hong",
      "userId": "11131435925814580522"
     },
     "user_tz": -480
    },
    "id": "thick-affairs",
    "outputId": "7587565d-ad26-496a-e825-05377436a07f"
   },
   "outputs": [
    {
     "data": {
      "text/plain": [
       "(int, float)"
      ]
     },
     "execution_count": 7,
     "metadata": {},
     "output_type": "execute_result"
    }
   ],
   "source": [
    "type(6), type(5.7)"
   ]
  },
  {
   "cell_type": "markdown",
   "id": "flexible-november",
   "metadata": {
    "id": "flexible-november"
   },
   "source": [
    "#### 7.1.1 類別裡的成員"
   ]
  },
  {
   "cell_type": "code",
   "execution_count": 8,
   "id": "LgKYf998pC9G",
   "metadata": {
    "colab": {
     "base_uri": "https://localhost:8080/"
    },
    "executionInfo": {
     "elapsed": 37,
     "status": "ok",
     "timestamp": 1650629035078,
     "user": {
      "displayName": "wien hong",
      "userId": "11131435925814580522"
     },
     "user_tz": -480
    },
    "id": "LgKYf998pC9G",
    "outputId": "7b131724-50d9-4c66-f93d-ba66bf8a6162"
   },
   "outputs": [
    {
     "name": "stdout",
     "output_type": "stream",
     "text": [
      "70\n",
      "grade= 90\n"
     ]
    }
   ],
   "source": [
    "# 簡單的類別範例\n",
    "class Student:\n",
    "  grade = 70  # 定義屬性\n",
    "\n",
    "  def show(self):  # 定義函數\n",
    "    print('grade=', self.grade)\n",
    "\n",
    "\n",
    "tom = Student()\n",
    "print(tom.grade)\n",
    "tom.grade = 90\n",
    "tom.show()"
   ]
  },
  {
   "cell_type": "code",
   "execution_count": 9,
   "id": "FyTDJdOgpUkK",
   "metadata": {
    "colab": {
     "base_uri": "https://localhost:8080/"
    },
    "executionInfo": {
     "elapsed": 32,
     "status": "ok",
     "timestamp": 1650629035079,
     "user": {
      "displayName": "wien hong",
      "userId": "11131435925814580522"
     },
     "user_tz": -480
    },
    "id": "FyTDJdOgpUkK",
    "outputId": "38159a8a-d9ae-48ad-cea1-5c4cf6331c72"
   },
   "outputs": [
    {
     "data": {
      "text/plain": [
       "__main__.Student"
      ]
     },
     "execution_count": 9,
     "metadata": {},
     "output_type": "execute_result"
    }
   ],
   "source": [
    "type(tom)"
   ]
  },
  {
   "cell_type": "code",
   "execution_count": 10,
   "id": "eEP1ZZAepYnT",
   "metadata": {
    "colab": {
     "base_uri": "https://localhost:8080/"
    },
    "executionInfo": {
     "elapsed": 27,
     "status": "ok",
     "timestamp": 1650629035080,
     "user": {
      "displayName": "wien hong",
      "userId": "11131435925814580522"
     },
     "user_tz": -480
    },
    "id": "eEP1ZZAepYnT",
    "outputId": "183d0d10-85e9-418f-bc45-90539a1d5909"
   },
   "outputs": [
    {
     "data": {
      "text/plain": [
       "90"
      ]
     },
     "execution_count": 10,
     "metadata": {},
     "output_type": "execute_result"
    }
   ],
   "source": [
    "tom.grade"
   ]
  },
  {
   "cell_type": "code",
   "execution_count": 11,
   "id": "-zDmAwRhpZry",
   "metadata": {
    "colab": {
     "base_uri": "https://localhost:8080/"
    },
    "executionInfo": {
     "elapsed": 24,
     "status": "ok",
     "timestamp": 1650629035081,
     "user": {
      "displayName": "wien hong",
      "userId": "11131435925814580522"
     },
     "user_tz": -480
    },
    "id": "-zDmAwRhpZry",
    "outputId": "88d8dfeb-0d2c-4358-de4a-bc3f8ab730d0"
   },
   "outputs": [
    {
     "data": {
      "text/plain": [
       "70"
      ]
     },
     "execution_count": 11,
     "metadata": {},
     "output_type": "execute_result"
    }
   ],
   "source": [
    "Student.grade"
   ]
  },
  {
   "cell_type": "code",
   "execution_count": 12,
   "id": "IG2xbxd8peKf",
   "metadata": {
    "id": "IG2xbxd8peKf"
   },
   "outputs": [],
   "source": [
    "Student.grade = 95"
   ]
  },
  {
   "cell_type": "code",
   "execution_count": 13,
   "id": "Y3gcnWOrpfuU",
   "metadata": {
    "id": "Y3gcnWOrpfuU"
   },
   "outputs": [],
   "source": [
    "mary = Student()"
   ]
  },
  {
   "cell_type": "code",
   "execution_count": 14,
   "id": "58est75ophh2",
   "metadata": {
    "colab": {
     "base_uri": "https://localhost:8080/"
    },
    "executionInfo": {
     "elapsed": 157,
     "status": "ok",
     "timestamp": 1650629035953,
     "user": {
      "displayName": "wien hong",
      "userId": "11131435925814580522"
     },
     "user_tz": -480
    },
    "id": "58est75ophh2",
    "outputId": "e6b4dcc1-f1e3-495b-fd06-3d01117e05a1"
   },
   "outputs": [
    {
     "data": {
      "text/plain": [
       "95"
      ]
     },
     "execution_count": 14,
     "metadata": {},
     "output_type": "execute_result"
    }
   ],
   "source": [
    "mary.grade"
   ]
  },
  {
   "cell_type": "code",
   "execution_count": 15,
   "id": "dhS_wh4ipj5W",
   "metadata": {
    "colab": {
     "base_uri": "https://localhost:8080/"
    },
    "executionInfo": {
     "elapsed": 149,
     "status": "ok",
     "timestamp": 1650629035954,
     "user": {
      "displayName": "wien hong",
      "userId": "11131435925814580522"
     },
     "user_tz": -480
    },
    "id": "dhS_wh4ipj5W",
    "outputId": "66114357-24ae-4bb0-8712-5c34df26fe48"
   },
   "outputs": [
    {
     "name": "stdout",
     "output_type": "stream",
     "text": [
      "grade= 95\n"
     ]
    }
   ],
   "source": [
    "mary.show()"
   ]
  },
  {
   "cell_type": "code",
   "execution_count": 16,
   "id": "qmQXkq-TqmqP",
   "metadata": {
    "colab": {
     "base_uri": "https://localhost:8080/"
    },
    "executionInfo": {
     "elapsed": 96,
     "status": "ok",
     "timestamp": 1650629035955,
     "user": {
      "displayName": "wien hong",
      "userId": "11131435925814580522"
     },
     "user_tz": -480
    },
    "id": "qmQXkq-TqmqP",
    "outputId": "87110160-1d2d-494b-e290-903cb21ba455"
   },
   "outputs": [
    {
     "data": {
      "text/plain": [
       "True"
      ]
     },
     "execution_count": 16,
     "metadata": {},
     "output_type": "execute_result"
    }
   ],
   "source": [
    "isinstance(5, int)"
   ]
  },
  {
   "cell_type": "code",
   "execution_count": 17,
   "id": "XlbIhD8Gqntx",
   "metadata": {
    "colab": {
     "base_uri": "https://localhost:8080/"
    },
    "executionInfo": {
     "elapsed": 91,
     "status": "ok",
     "timestamp": 1650629035956,
     "user": {
      "displayName": "wien hong",
      "userId": "11131435925814580522"
     },
     "user_tz": -480
    },
    "id": "XlbIhD8Gqntx",
    "outputId": "15dc2ae9-0ad7-4ca6-a6d4-3518dff4c8d2"
   },
   "outputs": [
    {
     "data": {
      "text/plain": [
       "True"
      ]
     },
     "execution_count": 17,
     "metadata": {},
     "output_type": "execute_result"
    }
   ],
   "source": [
    "isinstance([1, 2, 3], list)"
   ]
  },
  {
   "cell_type": "code",
   "execution_count": 18,
   "id": "mLbW5ABOqp8X",
   "metadata": {
    "colab": {
     "base_uri": "https://localhost:8080/"
    },
    "executionInfo": {
     "elapsed": 85,
     "status": "ok",
     "timestamp": 1650629035957,
     "user": {
      "displayName": "wien hong",
      "userId": "11131435925814580522"
     },
     "user_tz": -480
    },
    "id": "mLbW5ABOqp8X",
    "outputId": "175ea10e-5098-45dd-dc88-8b4ca6d76acc"
   },
   "outputs": [
    {
     "data": {
      "text/plain": [
       "True"
      ]
     },
     "execution_count": 18,
     "metadata": {},
     "output_type": "execute_result"
    }
   ],
   "source": [
    "isinstance(tom, Student)"
   ]
  },
  {
   "cell_type": "code",
   "execution_count": 19,
   "id": "c9FuHZ2Iqs47",
   "metadata": {
    "colab": {
     "base_uri": "https://localhost:8080/"
    },
    "executionInfo": {
     "elapsed": 79,
     "status": "ok",
     "timestamp": 1650629035958,
     "user": {
      "displayName": "wien hong",
      "userId": "11131435925814580522"
     },
     "user_tz": -480
    },
    "id": "c9FuHZ2Iqs47",
    "outputId": "08512847-f2af-4c46-da5a-405a42775622"
   },
   "outputs": [
    {
     "data": {
      "text/plain": [
       "True"
      ]
     },
     "execution_count": 19,
     "metadata": {},
     "output_type": "execute_result"
    }
   ],
   "source": [
    "hasattr(mary, 'grade')"
   ]
  },
  {
   "cell_type": "code",
   "execution_count": 20,
   "id": "HKu5aueeqwKd",
   "metadata": {
    "id": "HKu5aueeqwKd"
   },
   "outputs": [],
   "source": [
    "setattr(mary, 'grade', 100)"
   ]
  },
  {
   "cell_type": "code",
   "execution_count": 21,
   "id": "zL6HnjOVqy8N",
   "metadata": {
    "colab": {
     "base_uri": "https://localhost:8080/"
    },
    "executionInfo": {
     "elapsed": 71,
     "status": "ok",
     "timestamp": 1650629035959,
     "user": {
      "displayName": "wien hong",
      "userId": "11131435925814580522"
     },
     "user_tz": -480
    },
    "id": "zL6HnjOVqy8N",
    "outputId": "37e96da9-9c0d-4b00-e337-5be3c51afdf0"
   },
   "outputs": [
    {
     "data": {
      "text/plain": [
       "100"
      ]
     },
     "execution_count": 21,
     "metadata": {},
     "output_type": "execute_result"
    }
   ],
   "source": [
    "getattr(mary, 'grade')"
   ]
  },
  {
   "cell_type": "markdown",
   "id": "tutorial-gilbert",
   "metadata": {
    "id": "tutorial-gilbert"
   },
   "source": [
    "#### 7.1.2 利用 \\_\\_init__() 函數設定實例屬性"
   ]
  },
  {
   "cell_type": "code",
   "execution_count": 22,
   "id": "strange-swift",
   "metadata": {
    "id": "strange-swift"
   },
   "outputs": [],
   "source": [
    "class Cat:\n",
    "  breed = 'Mix'\n",
    "\n",
    "  def __init__(self, n, a):\n",
    "    self.name = n\n",
    "    self.age = a"
   ]
  },
  {
   "cell_type": "code",
   "execution_count": 23,
   "id": "eXZazZ4MrBLl",
   "metadata": {
    "id": "eXZazZ4MrBLl"
   },
   "outputs": [],
   "source": [
    "myCat = Cat('Tom', 8)"
   ]
  },
  {
   "cell_type": "code",
   "execution_count": 24,
   "id": "Uyeuvq3frELK",
   "metadata": {
    "colab": {
     "base_uri": "https://localhost:8080/",
     "height": 35
    },
    "executionInfo": {
     "elapsed": 65,
     "status": "ok",
     "timestamp": 1650629035961,
     "user": {
      "displayName": "wien hong",
      "userId": "11131435925814580522"
     },
     "user_tz": -480
    },
    "id": "Uyeuvq3frELK",
    "outputId": "23528893-554a-42be-d452-3401f98f63ec"
   },
   "outputs": [
    {
     "data": {
      "text/plain": [
       "'Tom'"
      ]
     },
     "execution_count": 24,
     "metadata": {},
     "output_type": "execute_result"
    }
   ],
   "source": [
    "myCat.name"
   ]
  },
  {
   "cell_type": "code",
   "execution_count": 25,
   "id": "EKzXkv5prHwz",
   "metadata": {
    "colab": {
     "base_uri": "https://localhost:8080/"
    },
    "executionInfo": {
     "elapsed": 64,
     "status": "ok",
     "timestamp": 1650629035962,
     "user": {
      "displayName": "wien hong",
      "userId": "11131435925814580522"
     },
     "user_tz": -480
    },
    "id": "EKzXkv5prHwz",
    "outputId": "4f7b4188-b138-4cb9-8f32-b0d057a8bbb4"
   },
   "outputs": [
    {
     "data": {
      "text/plain": [
       "8"
      ]
     },
     "execution_count": 25,
     "metadata": {},
     "output_type": "execute_result"
    }
   ],
   "source": [
    "myCat.age"
   ]
  },
  {
   "cell_type": "code",
   "execution_count": 26,
   "id": "_-VKVqkLrKOA",
   "metadata": {
    "colab": {
     "base_uri": "https://localhost:8080/",
     "height": 35
    },
    "executionInfo": {
     "elapsed": 56,
     "status": "ok",
     "timestamp": 1650629035963,
     "user": {
      "displayName": "wien hong",
      "userId": "11131435925814580522"
     },
     "user_tz": -480
    },
    "id": "_-VKVqkLrKOA",
    "outputId": "aab48862-1a3b-46ed-8aa3-801f41b2873f"
   },
   "outputs": [
    {
     "data": {
      "text/plain": [
       "'Mix'"
      ]
     },
     "execution_count": 26,
     "metadata": {},
     "output_type": "execute_result"
    }
   ],
   "source": [
    "myCat.breed"
   ]
  },
  {
   "cell_type": "code",
   "execution_count": 27,
   "id": "mfCHS4RPrLSf",
   "metadata": {
    "id": "mfCHS4RPrLSf"
   },
   "outputs": [],
   "source": [
    "yourCat = Cat('Jerry', 4)"
   ]
  },
  {
   "cell_type": "code",
   "execution_count": 28,
   "id": "01tTn74vrOFG",
   "metadata": {
    "colab": {
     "base_uri": "https://localhost:8080/"
    },
    "executionInfo": {
     "elapsed": 59,
     "status": "ok",
     "timestamp": 1650629035969,
     "user": {
      "displayName": "wien hong",
      "userId": "11131435925814580522"
     },
     "user_tz": -480
    },
    "id": "01tTn74vrOFG",
    "outputId": "f7a4491f-6001-4353-adf8-b9c568e25a0b"
   },
   "outputs": [
    {
     "data": {
      "text/plain": [
       "4"
      ]
     },
     "execution_count": 28,
     "metadata": {},
     "output_type": "execute_result"
    }
   ],
   "source": [
    "getattr(yourCat, 'age')"
   ]
  },
  {
   "cell_type": "code",
   "execution_count": 29,
   "id": "VBbNcrOLrRi3",
   "metadata": {
    "id": "VBbNcrOLrRi3"
   },
   "outputs": [],
   "source": [
    "yourCat.breed = 'Asian'"
   ]
  },
  {
   "cell_type": "code",
   "execution_count": 30,
   "id": "87Ipy94GrTmh",
   "metadata": {
    "colab": {
     "base_uri": "https://localhost:8080/",
     "height": 35
    },
    "executionInfo": {
     "elapsed": 137,
     "status": "ok",
     "timestamp": 1650629036452,
     "user": {
      "displayName": "wien hong",
      "userId": "11131435925814580522"
     },
     "user_tz": -480
    },
    "id": "87Ipy94GrTmh",
    "outputId": "aa4ecb55-5b9c-462d-c122-474ac4b3ee59"
   },
   "outputs": [
    {
     "data": {
      "text/plain": [
       "'Mix'"
      ]
     },
     "execution_count": 30,
     "metadata": {},
     "output_type": "execute_result"
    }
   ],
   "source": [
    "myCat.breed"
   ]
  },
  {
   "cell_type": "code",
   "execution_count": 31,
   "id": "sr8h_RcBrVkP",
   "metadata": {
    "colab": {
     "base_uri": "https://localhost:8080/",
     "height": 35
    },
    "executionInfo": {
     "elapsed": 137,
     "status": "ok",
     "timestamp": 1650629036453,
     "user": {
      "displayName": "wien hong",
      "userId": "11131435925814580522"
     },
     "user_tz": -480
    },
    "id": "sr8h_RcBrVkP",
    "outputId": "283022dc-8c77-4426-ec51-373707439d1c"
   },
   "outputs": [
    {
     "data": {
      "text/plain": [
       "'Mix'"
      ]
     },
     "execution_count": 31,
     "metadata": {},
     "output_type": "execute_result"
    }
   ],
   "source": [
    "Cat.breed"
   ]
  },
  {
   "cell_type": "markdown",
   "id": "endangered-wright",
   "metadata": {
    "id": "endangered-wright"
   },
   "source": [
    "### 7.2 實例函數"
   ]
  },
  {
   "cell_type": "markdown",
   "id": "funded-administration",
   "metadata": {
    "id": "funded-administration"
   },
   "source": [
    "#### 7.2.1 定義實例函數"
   ]
  },
  {
   "cell_type": "code",
   "execution_count": 32,
   "id": "traditional-bidding",
   "metadata": {
    "id": "traditional-bidding"
   },
   "outputs": [],
   "source": [
    "class Circle:\n",
    "  def __init__(self, r=1):\n",
    "    self.rad = r  # 實例屬性\n",
    "\n",
    "  def area(self):  # 不需參數傳入\n",
    "    return 3.14 * self.rad**2"
   ]
  },
  {
   "cell_type": "code",
   "execution_count": 33,
   "id": "immune-antigua",
   "metadata": {
    "id": "immune-antigua"
   },
   "outputs": [],
   "source": [
    "c1 = Circle(10)"
   ]
  },
  {
   "cell_type": "code",
   "execution_count": 34,
   "id": "regulation-palmer",
   "metadata": {
    "colab": {
     "base_uri": "https://localhost:8080/"
    },
    "executionInfo": {
     "elapsed": 137,
     "status": "ok",
     "timestamp": 1650629036456,
     "user": {
      "displayName": "wien hong",
      "userId": "11131435925814580522"
     },
     "user_tz": -480
    },
    "id": "regulation-palmer",
    "outputId": "c70f62d4-f468-41e4-97d6-ac98b4c2b002"
   },
   "outputs": [
    {
     "data": {
      "text/plain": [
       "10"
      ]
     },
     "execution_count": 34,
     "metadata": {},
     "output_type": "execute_result"
    }
   ],
   "source": [
    "c1.rad"
   ]
  },
  {
   "cell_type": "code",
   "execution_count": 35,
   "id": "social-spencer",
   "metadata": {
    "colab": {
     "base_uri": "https://localhost:8080/"
    },
    "executionInfo": {
     "elapsed": 133,
     "status": "ok",
     "timestamp": 1650629036457,
     "user": {
      "displayName": "wien hong",
      "userId": "11131435925814580522"
     },
     "user_tz": -480
    },
    "id": "social-spencer",
    "outputId": "ac524792-bcdf-4930-e8a1-007845bf0441"
   },
   "outputs": [
    {
     "data": {
      "text/plain": [
       "314.0"
      ]
     },
     "execution_count": 35,
     "metadata": {},
     "output_type": "execute_result"
    }
   ],
   "source": [
    "c1.area()"
   ]
  },
  {
   "cell_type": "code",
   "execution_count": 36,
   "id": "mental-franchise",
   "metadata": {
    "colab": {
     "base_uri": "https://localhost:8080/"
    },
    "executionInfo": {
     "elapsed": 130,
     "status": "ok",
     "timestamp": 1650629036458,
     "user": {
      "displayName": "wien hong",
      "userId": "11131435925814580522"
     },
     "user_tz": -480
    },
    "id": "mental-franchise",
    "outputId": "114bc4ef-afb6-4ad1-bba1-a88509c13a93"
   },
   "outputs": [
    {
     "data": {
      "text/plain": [
       "3.14"
      ]
     },
     "execution_count": 36,
     "metadata": {},
     "output_type": "execute_result"
    }
   ],
   "source": [
    "Circle().area()"
   ]
  },
  {
   "cell_type": "code",
   "execution_count": 37,
   "id": "sitting-bleeding",
   "metadata": {
    "id": "sitting-bleeding"
   },
   "outputs": [],
   "source": [
    "c2 = Circle(100)"
   ]
  },
  {
   "cell_type": "code",
   "execution_count": 38,
   "id": "indirect-detective",
   "metadata": {
    "colab": {
     "base_uri": "https://localhost:8080/"
    },
    "executionInfo": {
     "elapsed": 129,
     "status": "ok",
     "timestamp": 1650629036461,
     "user": {
      "displayName": "wien hong",
      "userId": "11131435925814580522"
     },
     "user_tz": -480
    },
    "id": "indirect-detective",
    "outputId": "744936b1-84d3-4aa7-e8b5-28207a2e6554"
   },
   "outputs": [
    {
     "data": {
      "text/plain": [
       "31400.0"
      ]
     },
     "execution_count": 38,
     "metadata": {},
     "output_type": "execute_result"
    }
   ],
   "source": [
    "c2.area()"
   ]
  },
  {
   "cell_type": "markdown",
   "id": "prescription-amber",
   "metadata": {
    "id": "prescription-amber"
   },
   "source": [
    "#### 7.2.2 存取實例屬性與類別屬性"
   ]
  },
  {
   "cell_type": "code",
   "execution_count": 39,
   "id": "adequate-element",
   "metadata": {
    "id": "adequate-element"
   },
   "outputs": [],
   "source": [
    "class Circle:\n",
    "  cnt = 0  # 類別屬性\n",
    "\n",
    "  def __init__(self, r=1):\n",
    "    self.rad = r\n",
    "    Circle.cnt += 1\n",
    "\n",
    "  def area(self):\n",
    "    return 3.14 * self.rad**2"
   ]
  },
  {
   "cell_type": "code",
   "execution_count": 40,
   "id": "special-trading",
   "metadata": {
    "id": "special-trading"
   },
   "outputs": [],
   "source": [
    "c1 = Circle(10)"
   ]
  },
  {
   "cell_type": "code",
   "execution_count": 41,
   "id": "vertical-butterfly",
   "metadata": {
    "colab": {
     "base_uri": "https://localhost:8080/"
    },
    "executionInfo": {
     "elapsed": 136,
     "status": "ok",
     "timestamp": 1650629036472,
     "user": {
      "displayName": "wien hong",
      "userId": "11131435925814580522"
     },
     "user_tz": -480
    },
    "id": "vertical-butterfly",
    "outputId": "3ab5577a-6674-40d7-acec-d07ac4f51268"
   },
   "outputs": [
    {
     "data": {
      "text/plain": [
       "1"
      ]
     },
     "execution_count": 41,
     "metadata": {},
     "output_type": "execute_result"
    }
   ],
   "source": [
    "c1.cnt"
   ]
  },
  {
   "cell_type": "code",
   "execution_count": 42,
   "id": "atomic-machine",
   "metadata": {
    "id": "atomic-machine"
   },
   "outputs": [],
   "source": [
    "c2 = Circle(5)"
   ]
  },
  {
   "cell_type": "code",
   "execution_count": 43,
   "id": "consistent-kennedy",
   "metadata": {
    "colab": {
     "base_uri": "https://localhost:8080/"
    },
    "executionInfo": {
     "elapsed": 134,
     "status": "ok",
     "timestamp": 1650629036474,
     "user": {
      "displayName": "wien hong",
      "userId": "11131435925814580522"
     },
     "user_tz": -480
    },
    "id": "consistent-kennedy",
    "outputId": "83de84ce-b944-460d-8e60-b5aeb9690f67"
   },
   "outputs": [
    {
     "data": {
      "text/plain": [
       "2"
      ]
     },
     "execution_count": 43,
     "metadata": {},
     "output_type": "execute_result"
    }
   ],
   "source": [
    "c2.cnt"
   ]
  },
  {
   "cell_type": "code",
   "execution_count": 44,
   "id": "alone-batman",
   "metadata": {
    "colab": {
     "base_uri": "https://localhost:8080/"
    },
    "executionInfo": {
     "elapsed": 130,
     "status": "ok",
     "timestamp": 1650629036475,
     "user": {
      "displayName": "wien hong",
      "userId": "11131435925814580522"
     },
     "user_tz": -480
    },
    "id": "alone-batman",
    "outputId": "0b8fd62b-f34e-4309-f841-f9fa97c6d855"
   },
   "outputs": [
    {
     "data": {
      "text/plain": [
       "2"
      ]
     },
     "execution_count": 44,
     "metadata": {},
     "output_type": "execute_result"
    }
   ],
   "source": [
    "c1.cnt"
   ]
  },
  {
   "cell_type": "code",
   "execution_count": 45,
   "id": "jewish-burning",
   "metadata": {
    "colab": {
     "base_uri": "https://localhost:8080/"
    },
    "executionInfo": {
     "elapsed": 128,
     "status": "ok",
     "timestamp": 1650629036476,
     "user": {
      "displayName": "wien hong",
      "userId": "11131435925814580522"
     },
     "user_tz": -480
    },
    "id": "jewish-burning",
    "outputId": "69dfc4f9-41db-4278-99a5-44722ba7371b"
   },
   "outputs": [
    {
     "data": {
      "text/plain": [
       "2"
      ]
     },
     "execution_count": 45,
     "metadata": {},
     "output_type": "execute_result"
    }
   ],
   "source": [
    "Circle.cnt"
   ]
  },
  {
   "cell_type": "code",
   "execution_count": 46,
   "id": "adverse-mainstream",
   "metadata": {
    "colab": {
     "base_uri": "https://localhost:8080/"
    },
    "executionInfo": {
     "elapsed": 124,
     "status": "ok",
     "timestamp": 1650629036476,
     "user": {
      "displayName": "wien hong",
      "userId": "11131435925814580522"
     },
     "user_tz": -480
    },
    "id": "adverse-mainstream",
    "outputId": "3408df7d-6f59-4faa-e9e0-ab42dad4a03e"
   },
   "outputs": [
    {
     "data": {
      "text/plain": [
       "(314.0, 78.5)"
      ]
     },
     "execution_count": 46,
     "metadata": {},
     "output_type": "execute_result"
    }
   ],
   "source": [
    "c1.area(), c2.area()"
   ]
  },
  {
   "cell_type": "code",
   "execution_count": 47,
   "id": "international-cable",
   "metadata": {
    "colab": {
     "base_uri": "https://localhost:8080/"
    },
    "executionInfo": {
     "elapsed": 120,
     "status": "ok",
     "timestamp": 1650629036477,
     "user": {
      "displayName": "wien hong",
      "userId": "11131435925814580522"
     },
     "user_tz": -480
    },
    "id": "international-cable",
    "outputId": "3665e1e0-e4ab-4c0b-d923-0fcb4c6e5aa8"
   },
   "outputs": [
    {
     "data": {
      "text/plain": [
       "78.5"
      ]
     },
     "execution_count": 47,
     "metadata": {},
     "output_type": "execute_result"
    }
   ],
   "source": [
    "Circle.area(c2)"
   ]
  },
  {
   "cell_type": "code",
   "execution_count": 48,
   "id": "earned-information",
   "metadata": {
    "id": "earned-information"
   },
   "outputs": [],
   "source": [
    "c1.cnt = 0"
   ]
  },
  {
   "cell_type": "code",
   "execution_count": 49,
   "id": "tracked-checklist",
   "metadata": {
    "colab": {
     "base_uri": "https://localhost:8080/"
    },
    "executionInfo": {
     "elapsed": 117,
     "status": "ok",
     "timestamp": 1650629036478,
     "user": {
      "displayName": "wien hong",
      "userId": "11131435925814580522"
     },
     "user_tz": -480
    },
    "id": "tracked-checklist",
    "outputId": "fbbfe557-3a53-44f5-f53a-843e1e97ae4a"
   },
   "outputs": [
    {
     "data": {
      "text/plain": [
       "0"
      ]
     },
     "execution_count": 49,
     "metadata": {},
     "output_type": "execute_result"
    }
   ],
   "source": [
    "c1.cnt"
   ]
  },
  {
   "cell_type": "code",
   "execution_count": 50,
   "id": "vocal-boulder",
   "metadata": {
    "colab": {
     "base_uri": "https://localhost:8080/"
    },
    "executionInfo": {
     "elapsed": 114,
     "status": "ok",
     "timestamp": 1650629036478,
     "user": {
      "displayName": "wien hong",
      "userId": "11131435925814580522"
     },
     "user_tz": -480
    },
    "id": "vocal-boulder",
    "outputId": "d386b38d-b247-4536-a8a4-6f592e692d5a"
   },
   "outputs": [
    {
     "data": {
      "text/plain": [
       "2"
      ]
     },
     "execution_count": 50,
     "metadata": {},
     "output_type": "execute_result"
    }
   ],
   "source": [
    "c2.cnt"
   ]
  },
  {
   "cell_type": "code",
   "execution_count": 51,
   "id": "congressional-white",
   "metadata": {
    "colab": {
     "base_uri": "https://localhost:8080/"
    },
    "executionInfo": {
     "elapsed": 112,
     "status": "ok",
     "timestamp": 1650629036479,
     "user": {
      "displayName": "wien hong",
      "userId": "11131435925814580522"
     },
     "user_tz": -480
    },
    "id": "congressional-white",
    "outputId": "eb66be29-39ab-4c3b-9577-a248b9a0cd6f"
   },
   "outputs": [
    {
     "data": {
      "text/plain": [
       "2"
      ]
     },
     "execution_count": 51,
     "metadata": {},
     "output_type": "execute_result"
    }
   ],
   "source": [
    "Circle.cnt"
   ]
  },
  {
   "cell_type": "code",
   "execution_count": 52,
   "id": "coordinate-whole",
   "metadata": {
    "id": "coordinate-whole"
   },
   "outputs": [],
   "source": [
    "Circle.cnt = 0"
   ]
  },
  {
   "cell_type": "code",
   "execution_count": 53,
   "id": "frozen-bracelet",
   "metadata": {
    "colab": {
     "base_uri": "https://localhost:8080/"
    },
    "executionInfo": {
     "elapsed": 110,
     "status": "ok",
     "timestamp": 1650629036480,
     "user": {
      "displayName": "wien hong",
      "userId": "11131435925814580522"
     },
     "user_tz": -480
    },
    "id": "frozen-bracelet",
    "outputId": "3a0e0910-e55e-42f2-f048-bea3f568d0ed"
   },
   "outputs": [
    {
     "data": {
      "text/plain": [
       "[1, 2, 3, 4, 5]"
      ]
     },
     "execution_count": 53,
     "metadata": {},
     "output_type": "execute_result"
    }
   ],
   "source": [
    "[Circle().cnt for _ in range(5)]"
   ]
  },
  {
   "cell_type": "code",
   "execution_count": 54,
   "id": "economic-hammer",
   "metadata": {
    "id": "economic-hammer"
   },
   "outputs": [],
   "source": [
    "class Circle:\n",
    "  cnt = 0  # 類別變數\n",
    "\n",
    "  def __init__(self, r=1):\n",
    "    self.rad = r\n",
    "    __class__.cnt += 1  # Better，利用 __class__.cnt 取代 Circle.cnt"
   ]
  },
  {
   "cell_type": "code",
   "execution_count": 55,
   "id": "educational-restaurant",
   "metadata": {
    "colab": {
     "base_uri": "https://localhost:8080/"
    },
    "executionInfo": {
     "elapsed": 106,
     "status": "ok",
     "timestamp": 1650629036480,
     "user": {
      "displayName": "wien hong",
      "userId": "11131435925814580522"
     },
     "user_tz": -480
    },
    "id": "educational-restaurant",
    "outputId": "1d368dd5-b310-435e-a2ca-2f411900b3ee"
   },
   "outputs": [
    {
     "data": {
      "text/plain": [
       "[<__main__.Circle at 0x13d43f08e80>,\n",
       " <__main__.Circle at 0x13d43f08d90>,\n",
       " <__main__.Circle at 0x13d43f08fd0>]"
      ]
     },
     "execution_count": 55,
     "metadata": {},
     "output_type": "execute_result"
    }
   ],
   "source": [
    "[Circle(i) for i in list([2, 4, 5])]"
   ]
  },
  {
   "cell_type": "code",
   "execution_count": 56,
   "id": "distributed-story",
   "metadata": {
    "colab": {
     "base_uri": "https://localhost:8080/"
    },
    "executionInfo": {
     "elapsed": 103,
     "status": "ok",
     "timestamp": 1650629036481,
     "user": {
      "displayName": "wien hong",
      "userId": "11131435925814580522"
     },
     "user_tz": -480
    },
    "id": "distributed-story",
    "outputId": "bc7c9dbd-a8a3-41d9-a259-944dc4a1659d"
   },
   "outputs": [
    {
     "data": {
      "text/plain": [
       "3"
      ]
     },
     "execution_count": 56,
     "metadata": {},
     "output_type": "execute_result"
    }
   ],
   "source": [
    "Circle.cnt"
   ]
  },
  {
   "cell_type": "markdown",
   "id": "clear-excellence",
   "metadata": {
    "id": "clear-excellence"
   },
   "source": [
    "#### 7.2.3 將物件傳入函數內"
   ]
  },
  {
   "cell_type": "code",
   "execution_count": 57,
   "id": "unique-environment",
   "metadata": {
    "id": "unique-environment"
   },
   "outputs": [],
   "source": [
    "class Circle:\n",
    "  def __init__(self, r):\n",
    "    self.rad = r\n",
    "\n",
    "  def compare(self, obj):  # 將物件傳入函數內\n",
    "    if self.rad > obj.rad:  # 比較rad的大小\n",
    "      return self\n",
    "    else:\n",
    "      return obj"
   ]
  },
  {
   "cell_type": "code",
   "execution_count": 58,
   "id": "humanitarian-boating",
   "metadata": {
    "id": "humanitarian-boating"
   },
   "outputs": [],
   "source": [
    "c1 = Circle(3)\n",
    "c2 = Circle(5)"
   ]
  },
  {
   "cell_type": "code",
   "execution_count": 59,
   "id": "vocational-language",
   "metadata": {
    "id": "vocational-language"
   },
   "outputs": [],
   "source": [
    "result = c1.compare(c2)"
   ]
  },
  {
   "cell_type": "code",
   "execution_count": 60,
   "id": "duplicate-climb",
   "metadata": {
    "colab": {
     "base_uri": "https://localhost:8080/"
    },
    "executionInfo": {
     "elapsed": 101,
     "status": "ok",
     "timestamp": 1650629036483,
     "user": {
      "displayName": "wien hong",
      "userId": "11131435925814580522"
     },
     "user_tz": -480
    },
    "id": "duplicate-climb",
    "outputId": "cb2af057-093a-46df-d815-e78258898222"
   },
   "outputs": [
    {
     "data": {
      "text/plain": [
       "<__main__.Circle at 0x13d440333d0>"
      ]
     },
     "execution_count": 60,
     "metadata": {},
     "output_type": "execute_result"
    }
   ],
   "source": [
    "result  # not easy to read"
   ]
  },
  {
   "cell_type": "code",
   "execution_count": 61,
   "id": "tested-harrison",
   "metadata": {
    "colab": {
     "base_uri": "https://localhost:8080/"
    },
    "executionInfo": {
     "elapsed": 97,
     "status": "ok",
     "timestamp": 1650629036484,
     "user": {
      "displayName": "wien hong",
      "userId": "11131435925814580522"
     },
     "user_tz": -480
    },
    "id": "tested-harrison",
    "outputId": "c87a7936-a669-44fa-a275-f2675172d8a5"
   },
   "outputs": [
    {
     "name": "stdout",
     "output_type": "stream",
     "text": [
      "<__main__.Circle object at 0x0000013D440333D0>\n"
     ]
    }
   ],
   "source": [
    "print(result)"
   ]
  },
  {
   "cell_type": "code",
   "execution_count": 62,
   "id": "identified-metabolism",
   "metadata": {
    "colab": {
     "base_uri": "https://localhost:8080/"
    },
    "executionInfo": {
     "elapsed": 94,
     "status": "ok",
     "timestamp": 1650629036485,
     "user": {
      "displayName": "wien hong",
      "userId": "11131435925814580522"
     },
     "user_tz": -480
    },
    "id": "identified-metabolism",
    "outputId": "5586bf43-b7bc-4ec6-935b-497419bb7229"
   },
   "outputs": [
    {
     "data": {
      "text/plain": [
       "5"
      ]
     },
     "execution_count": 62,
     "metadata": {},
     "output_type": "execute_result"
    }
   ],
   "source": [
    "result.rad"
   ]
  },
  {
   "cell_type": "markdown",
   "id": "scenic-gregory",
   "metadata": {
    "id": "scenic-gregory"
   },
   "source": [
    "#### 7.2.4 有趣的 __ repr__()、__ str__() 和 __ eq __() 函數"
   ]
  },
  {
   "cell_type": "code",
   "execution_count": 63,
   "id": "cheap-census",
   "metadata": {
    "id": "cheap-census"
   },
   "outputs": [],
   "source": [
    "# __repr__() 函數的使用\n",
    "class Circle:\n",
    "  def __init__(self, r):\n",
    "    self.rad = r\n",
    "\n",
    "  def __repr__(self):  # 當物件需被顯示時，會呼叫此函數\n",
    "    return f'Circle(r={self.rad})'\n",
    "\n",
    "  def compare(self, obj):\n",
    "    if self.rad > obj.rad:\n",
    "      return self\n",
    "    else:\n",
    "      return obj"
   ]
  },
  {
   "cell_type": "code",
   "execution_count": 64,
   "id": "romantic-crisis",
   "metadata": {
    "id": "romantic-crisis"
   },
   "outputs": [],
   "source": [
    "c1 = Circle(5)\n",
    "c2 = Circle(13)"
   ]
  },
  {
   "cell_type": "code",
   "execution_count": 65,
   "id": "cutting-source",
   "metadata": {
    "colab": {
     "base_uri": "https://localhost:8080/"
    },
    "executionInfo": {
     "elapsed": 91,
     "status": "ok",
     "timestamp": 1650629036487,
     "user": {
      "displayName": "wien hong",
      "userId": "11131435925814580522"
     },
     "user_tz": -480
    },
    "id": "cutting-source",
    "outputId": "8cb7c63f-5cda-439f-dfd7-58993b301744"
   },
   "outputs": [
    {
     "data": {
      "text/plain": [
       "Circle(r=13)"
      ]
     },
     "execution_count": 65,
     "metadata": {},
     "output_type": "execute_result"
    }
   ],
   "source": [
    "c1.compare(c2)"
   ]
  },
  {
   "cell_type": "code",
   "execution_count": 66,
   "id": "wooden-supplier",
   "metadata": {
    "colab": {
     "base_uri": "https://localhost:8080/"
    },
    "executionInfo": {
     "elapsed": 87,
     "status": "ok",
     "timestamp": 1650629036489,
     "user": {
      "displayName": "wien hong",
      "userId": "11131435925814580522"
     },
     "user_tz": -480
    },
    "id": "wooden-supplier",
    "outputId": "1fc55805-3aea-4325-f07b-d6fd25ee0e36"
   },
   "outputs": [
    {
     "data": {
      "text/plain": [
       "Circle(r=5)"
      ]
     },
     "execution_count": 66,
     "metadata": {},
     "output_type": "execute_result"
    }
   ],
   "source": [
    "c1"
   ]
  },
  {
   "cell_type": "code",
   "execution_count": 67,
   "id": "competitive-buffer",
   "metadata": {
    "id": "competitive-buffer"
   },
   "outputs": [],
   "source": [
    "class Circle:\n",
    "  def __init__(self, r=1):\n",
    "    self.rad = r"
   ]
  },
  {
   "cell_type": "code",
   "execution_count": 68,
   "id": "minimal-premium",
   "metadata": {
    "id": "minimal-premium"
   },
   "outputs": [],
   "source": [
    "c1 = Circle(5)\n",
    "c2 = Circle(5)"
   ]
  },
  {
   "cell_type": "code",
   "execution_count": 69,
   "id": "excited-wisconsin",
   "metadata": {
    "colab": {
     "base_uri": "https://localhost:8080/"
    },
    "executionInfo": {
     "elapsed": 86,
     "status": "ok",
     "timestamp": 1650629036492,
     "user": {
      "displayName": "wien hong",
      "userId": "11131435925814580522"
     },
     "user_tz": -480
    },
    "id": "excited-wisconsin",
    "outputId": "db8cda40-d542-4d21-9b9f-f76fa966f112"
   },
   "outputs": [
    {
     "data": {
      "text/plain": [
       "False"
      ]
     },
     "execution_count": 69,
     "metadata": {},
     "output_type": "execute_result"
    }
   ],
   "source": [
    "c1 == c2"
   ]
  },
  {
   "cell_type": "code",
   "execution_count": 70,
   "id": "direct-bridge",
   "metadata": {
    "colab": {
     "base_uri": "https://localhost:8080/"
    },
    "executionInfo": {
     "elapsed": 83,
     "status": "ok",
     "timestamp": 1650629036493,
     "user": {
      "displayName": "wien hong",
      "userId": "11131435925814580522"
     },
     "user_tz": -480
    },
    "id": "direct-bridge",
    "outputId": "224b518a-67c7-406c-a769-db1e6ae1d015"
   },
   "outputs": [
    {
     "data": {
      "text/plain": [
       "True"
      ]
     },
     "execution_count": 70,
     "metadata": {},
     "output_type": "execute_result"
    }
   ],
   "source": [
    "c1.rad == c2.rad"
   ]
  },
  {
   "cell_type": "code",
   "execution_count": 71,
   "id": "according-guess",
   "metadata": {
    "colab": {
     "base_uri": "https://localhost:8080/"
    },
    "executionInfo": {
     "elapsed": 81,
     "status": "ok",
     "timestamp": 1650629036494,
     "user": {
      "displayName": "wien hong",
      "userId": "11131435925814580522"
     },
     "user_tz": -480
    },
    "id": "according-guess",
    "outputId": "4a0012e5-cbd2-478b-d19e-680811b75833"
   },
   "outputs": [
    {
     "name": "stdout",
     "output_type": "stream",
     "text": [
      "<__main__.Circle object at 0x0000013D440223D0>\n"
     ]
    }
   ],
   "source": [
    "print(c1)"
   ]
  },
  {
   "cell_type": "code",
   "execution_count": 72,
   "id": "desperate-aquarium",
   "metadata": {
    "id": "desperate-aquarium"
   },
   "outputs": [],
   "source": [
    "# 定義 __str__() 和 __eq__() 函數\n",
    "class Circle:\n",
    "  def __init__(self, r=1):\n",
    "    self.rad = r\n",
    "\n",
    "  def __str__(self):  # print() 列印物件時會呼叫此函數\n",
    "    return f'radius= {self.rad}'\n",
    "\n",
    "  def __eq__(self, other):  # 使用==運算子時會呼叫此函數\n",
    "    if self.rad == other.rad:\n",
    "      return True\n",
    "    else:\n",
    "      return False"
   ]
  },
  {
   "cell_type": "code",
   "execution_count": 73,
   "id": "special-dancing",
   "metadata": {
    "id": "special-dancing"
   },
   "outputs": [],
   "source": [
    "c1 = Circle(12)\n",
    "c2 = Circle(12)"
   ]
  },
  {
   "cell_type": "code",
   "execution_count": 74,
   "id": "hairy-population",
   "metadata": {
    "colab": {
     "base_uri": "https://localhost:8080/"
    },
    "executionInfo": {
     "elapsed": 78,
     "status": "ok",
     "timestamp": 1650629036497,
     "user": {
      "displayName": "wien hong",
      "userId": "11131435925814580522"
     },
     "user_tz": -480
    },
    "id": "hairy-population",
    "outputId": "943d7e6e-c455-455b-c1bc-9bb7b742004a"
   },
   "outputs": [
    {
     "name": "stdout",
     "output_type": "stream",
     "text": [
      "radius= 12\n"
     ]
    }
   ],
   "source": [
    "print(c1)"
   ]
  },
  {
   "cell_type": "code",
   "execution_count": 75,
   "id": "interesting-identity",
   "metadata": {
    "colab": {
     "base_uri": "https://localhost:8080/"
    },
    "executionInfo": {
     "elapsed": 75,
     "status": "ok",
     "timestamp": 1650629036498,
     "user": {
      "displayName": "wien hong",
      "userId": "11131435925814580522"
     },
     "user_tz": -480
    },
    "id": "interesting-identity",
    "outputId": "93717fda-2dce-4607-d0c4-7044e13427fd"
   },
   "outputs": [
    {
     "name": "stdout",
     "output_type": "stream",
     "text": [
      "radius= 12\n"
     ]
    }
   ],
   "source": [
    "print(c2)"
   ]
  },
  {
   "cell_type": "code",
   "execution_count": 76,
   "id": "moderate-there",
   "metadata": {
    "colab": {
     "base_uri": "https://localhost:8080/"
    },
    "executionInfo": {
     "elapsed": 71,
     "status": "ok",
     "timestamp": 1650629036499,
     "user": {
      "displayName": "wien hong",
      "userId": "11131435925814580522"
     },
     "user_tz": -480
    },
    "id": "moderate-there",
    "outputId": "85a84b11-3f68-4022-df7c-4c429a8513f9"
   },
   "outputs": [
    {
     "data": {
      "text/plain": [
       "True"
      ]
     },
     "execution_count": 76,
     "metadata": {},
     "output_type": "execute_result"
    }
   ],
   "source": [
    "c1 == c2"
   ]
  },
  {
   "cell_type": "code",
   "execution_count": 77,
   "id": "experimental-photography",
   "metadata": {
    "id": "experimental-photography"
   },
   "outputs": [],
   "source": [
    "c1.rad = 10"
   ]
  },
  {
   "cell_type": "code",
   "execution_count": 78,
   "id": "beautiful-bosnia",
   "metadata": {
    "colab": {
     "base_uri": "https://localhost:8080/"
    },
    "executionInfo": {
     "elapsed": 64,
     "status": "ok",
     "timestamp": 1650629037355,
     "user": {
      "displayName": "wien hong",
      "userId": "11131435925814580522"
     },
     "user_tz": -480
    },
    "id": "beautiful-bosnia",
    "outputId": "1d2f4579-4e9b-40b4-f981-08aaff0f539e"
   },
   "outputs": [
    {
     "data": {
      "text/plain": [
       "False"
      ]
     },
     "execution_count": 78,
     "metadata": {},
     "output_type": "execute_result"
    }
   ],
   "source": [
    "c1 == c2"
   ]
  },
  {
   "cell_type": "markdown",
   "id": "significant-sacrifice",
   "metadata": {
    "id": "significant-sacrifice"
   },
   "source": [
    "### 7.3 類別函數和靜態函數"
   ]
  },
  {
   "cell_type": "markdown",
   "id": "social-retro",
   "metadata": {
    "id": "social-retro"
   },
   "source": [
    "#### 7.3.1 類別函數"
   ]
  },
  {
   "cell_type": "code",
   "execution_count": 79,
   "id": "egyptian-enough",
   "metadata": {
    "id": "egyptian-enough"
   },
   "outputs": [],
   "source": [
    "class Circle:\n",
    "  cnt = 0\n",
    "\n",
    "  def __init__(self):\n",
    "    __class__.cnt += 1\n",
    "\n",
    "  @classmethod  # 類別函數修飾子\n",
    "  def show_count(cls):  # 定義類別函數\n",
    "    print(cls.cnt, 'obj(s) created')"
   ]
  },
  {
   "cell_type": "code",
   "execution_count": 80,
   "id": "frozen-bryan",
   "metadata": {
    "colab": {
     "base_uri": "https://localhost:8080/"
    },
    "executionInfo": {
     "elapsed": 63,
     "status": "ok",
     "timestamp": 1650629037356,
     "user": {
      "displayName": "wien hong",
      "userId": "11131435925814580522"
     },
     "user_tz": -480
    },
    "id": "frozen-bryan",
    "outputId": "af471970-c79e-4cc9-edf1-e525f6688121"
   },
   "outputs": [
    {
     "name": "stdout",
     "output_type": "stream",
     "text": [
      "0 obj(s) created\n"
     ]
    }
   ],
   "source": [
    "Circle.show_count()"
   ]
  },
  {
   "cell_type": "code",
   "execution_count": 81,
   "id": "aerial-identification",
   "metadata": {
    "id": "aerial-identification"
   },
   "outputs": [],
   "source": [
    "c1 = Circle()"
   ]
  },
  {
   "cell_type": "code",
   "execution_count": 82,
   "id": "otherwise-mozambique",
   "metadata": {
    "colab": {
     "base_uri": "https://localhost:8080/"
    },
    "executionInfo": {
     "elapsed": 57,
     "status": "ok",
     "timestamp": 1650629037357,
     "user": {
      "displayName": "wien hong",
      "userId": "11131435925814580522"
     },
     "user_tz": -480
    },
    "id": "otherwise-mozambique",
    "outputId": "bd1a0ab9-ac4b-4fbc-813f-5dfb7f4d31b5"
   },
   "outputs": [
    {
     "name": "stdout",
     "output_type": "stream",
     "text": [
      "1 obj(s) created\n"
     ]
    }
   ],
   "source": [
    "Circle.show_count()"
   ]
  },
  {
   "cell_type": "code",
   "execution_count": 83,
   "id": "united-charger",
   "metadata": {
    "colab": {
     "base_uri": "https://localhost:8080/"
    },
    "executionInfo": {
     "elapsed": 52,
     "status": "ok",
     "timestamp": 1650629037358,
     "user": {
      "displayName": "wien hong",
      "userId": "11131435925814580522"
     },
     "user_tz": -480
    },
    "id": "united-charger",
    "outputId": "41253385-6389-4eb4-9922-b09e91223ad8"
   },
   "outputs": [
    {
     "name": "stdout",
     "output_type": "stream",
     "text": [
      "1 obj(s) created\n"
     ]
    }
   ],
   "source": [
    "c1.show_count()"
   ]
  },
  {
   "cell_type": "code",
   "execution_count": 84,
   "id": "bearing-sussex",
   "metadata": {
    "colab": {
     "base_uri": "https://localhost:8080/"
    },
    "executionInfo": {
     "elapsed": 48,
     "status": "ok",
     "timestamp": 1650629037358,
     "user": {
      "displayName": "wien hong",
      "userId": "11131435925814580522"
     },
     "user_tz": -480
    },
    "id": "bearing-sussex",
    "outputId": "83647de4-b0a3-4781-e825-ce2d7906f193"
   },
   "outputs": [
    {
     "data": {
      "text/plain": [
       "(1, 1)"
      ]
     },
     "execution_count": 84,
     "metadata": {},
     "output_type": "execute_result"
    }
   ],
   "source": [
    "c1.cnt, Circle.cnt"
   ]
  },
  {
   "cell_type": "code",
   "execution_count": 85,
   "id": "individual-harrison",
   "metadata": {
    "id": "individual-harrison"
   },
   "outputs": [],
   "source": [
    "cirs = [Circle() for _ in range(1, 6)]"
   ]
  },
  {
   "cell_type": "code",
   "execution_count": 86,
   "id": "british-fighter",
   "metadata": {
    "colab": {
     "base_uri": "https://localhost:8080/"
    },
    "executionInfo": {
     "elapsed": 45,
     "status": "ok",
     "timestamp": 1650629037359,
     "user": {
      "displayName": "wien hong",
      "userId": "11131435925814580522"
     },
     "user_tz": -480
    },
    "id": "british-fighter",
    "outputId": "112126de-2a1d-436a-979d-df7e27d1a3c3"
   },
   "outputs": [
    {
     "name": "stdout",
     "output_type": "stream",
     "text": [
      "6 obj(s) created\n"
     ]
    }
   ],
   "source": [
    "Circle.show_count()"
   ]
  },
  {
   "cell_type": "code",
   "execution_count": 87,
   "id": "sitting-legislation",
   "metadata": {
    "colab": {
     "base_uri": "https://localhost:8080/"
    },
    "executionInfo": {
     "elapsed": 42,
     "status": "ok",
     "timestamp": 1650629037360,
     "user": {
      "displayName": "wien hong",
      "userId": "11131435925814580522"
     },
     "user_tz": -480
    },
    "id": "sitting-legislation",
    "outputId": "5a804bbb-faf5-4e31-8c09-4b5575f35d93"
   },
   "outputs": [
    {
     "name": "stdout",
     "output_type": "stream",
     "text": [
      "6 obj(s) created\n"
     ]
    }
   ],
   "source": [
    "cirs[3].show_count()"
   ]
  },
  {
   "cell_type": "markdown",
   "id": "metallic-approach",
   "metadata": {
    "id": "metallic-approach"
   },
   "source": [
    "#### 7.3.2 靜態函數"
   ]
  },
  {
   "cell_type": "markdown",
   "id": "coral-swaziland",
   "metadata": {
    "id": "coral-swaziland"
   },
   "source": [
    "<font color=#1EA004>☘ </font>  static method：不帶 self 和 cls 參數的函數\n"
   ]
  },
  {
   "cell_type": "code",
   "execution_count": 88,
   "id": "federal-jefferson",
   "metadata": {
    "id": "federal-jefferson"
   },
   "outputs": [],
   "source": [
    "class Circle:\n",
    "  def __init__(self, r=1):\n",
    "    self.rad = r\n",
    "\n",
    "  def area(self):\n",
    "    return 3.14 * self.rad**2\n",
    "\n",
    "  @staticmethod  # decorator\t\t# 靜態函數修飾子\n",
    "  def show_info(greeting):  # 定義靜態函數\n",
    "    print(greeting, 'Circle')"
   ]
  },
  {
   "cell_type": "code",
   "execution_count": 89,
   "id": "hungry-strip",
   "metadata": {
    "colab": {
     "base_uri": "https://localhost:8080/"
    },
    "executionInfo": {
     "elapsed": 38,
     "status": "ok",
     "timestamp": 1650629037362,
     "user": {
      "displayName": "wien hong",
      "userId": "11131435925814580522"
     },
     "user_tz": -480
    },
    "id": "hungry-strip",
    "outputId": "28a489cc-bf19-4a11-9cc2-95436cad310c"
   },
   "outputs": [
    {
     "name": "stdout",
     "output_type": "stream",
     "text": [
      "Hello Circle\n"
     ]
    }
   ],
   "source": [
    "Circle.show_info('Hello')"
   ]
  },
  {
   "cell_type": "code",
   "execution_count": 90,
   "id": "correct-lindsay",
   "metadata": {
    "id": "correct-lindsay"
   },
   "outputs": [],
   "source": [
    "c1 = Circle(10)"
   ]
  },
  {
   "cell_type": "code",
   "execution_count": 91,
   "id": "computational-librarian",
   "metadata": {
    "colab": {
     "base_uri": "https://localhost:8080/"
    },
    "executionInfo": {
     "elapsed": 35,
     "status": "ok",
     "timestamp": 1650629037363,
     "user": {
      "displayName": "wien hong",
      "userId": "11131435925814580522"
     },
     "user_tz": -480
    },
    "id": "computational-librarian",
    "outputId": "2224c431-5cc4-49a8-a48e-f8a3882a244f"
   },
   "outputs": [
    {
     "name": "stdout",
     "output_type": "stream",
     "text": [
      "Hi Circle\n"
     ]
    }
   ],
   "source": [
    "c1.show_info('Hi')"
   ]
  },
  {
   "cell_type": "code",
   "execution_count": 92,
   "id": "noticed-forest",
   "metadata": {
    "colab": {
     "base_uri": "https://localhost:8080/"
    },
    "executionInfo": {
     "elapsed": 31,
     "status": "ok",
     "timestamp": 1650629037364,
     "user": {
      "displayName": "wien hong",
      "userId": "11131435925814580522"
     },
     "user_tz": -480
    },
    "id": "noticed-forest",
    "outputId": "09d5f90d-064c-4b46-8786-f26f716d11da"
   },
   "outputs": [
    {
     "data": {
      "text/plain": [
       "314.0"
      ]
     },
     "execution_count": 92,
     "metadata": {},
     "output_type": "execute_result"
    }
   ],
   "source": [
    "c1.area()"
   ]
  },
  {
   "cell_type": "markdown",
   "id": "cosmetic-formula",
   "metadata": {
    "id": "cosmetic-formula"
   },
   "source": [
    "### 7.4 繼承"
   ]
  },
  {
   "cell_type": "code",
   "execution_count": 93,
   "id": "iGsDk_v7fzuM",
   "metadata": {
    "id": "iGsDk_v7fzuM"
   },
   "outputs": [],
   "source": [
    "# 繼承的範例（一）\n",
    "class Radius:  # 父類別\n",
    "  def __init__(self, r):  # 父類別的 __init__()\n",
    "    self.rad = r\n",
    "\n",
    "  def show(self):  # 父類別的 show() 函數\n",
    "    print('rad=', self.rad)\n",
    "\n",
    "\n",
    "class Circle(Radius):  # 子類別\n",
    "  pass"
   ]
  },
  {
   "cell_type": "code",
   "execution_count": 94,
   "id": "iTJv-qXHf-Ez",
   "metadata": {
    "id": "iTJv-qXHf-Ez"
   },
   "outputs": [],
   "source": [
    "c1 = Circle(10)"
   ]
  },
  {
   "cell_type": "code",
   "execution_count": 95,
   "id": "vqoD17aTg3iS",
   "metadata": {
    "colab": {
     "base_uri": "https://localhost:8080/"
    },
    "executionInfo": {
     "elapsed": 26,
     "status": "ok",
     "timestamp": 1650629037366,
     "user": {
      "displayName": "wien hong",
      "userId": "11131435925814580522"
     },
     "user_tz": -480
    },
    "id": "vqoD17aTg3iS",
    "outputId": "419a02e7-0ae5-4f5d-df30-558424e60a21"
   },
   "outputs": [
    {
     "data": {
      "text/plain": [
       "10"
      ]
     },
     "execution_count": 95,
     "metadata": {},
     "output_type": "execute_result"
    }
   ],
   "source": [
    "c1.rad"
   ]
  },
  {
   "cell_type": "code",
   "execution_count": 96,
   "id": "uq9TMXPxh901",
   "metadata": {
    "colab": {
     "base_uri": "https://localhost:8080/"
    },
    "executionInfo": {
     "elapsed": 512,
     "status": "ok",
     "timestamp": 1650629037856,
     "user": {
      "displayName": "wien hong",
      "userId": "11131435925814580522"
     },
     "user_tz": -480
    },
    "id": "uq9TMXPxh901",
    "outputId": "e4c1d623-4104-4ddf-f32f-8ce3d817cfbd"
   },
   "outputs": [
    {
     "name": "stdout",
     "output_type": "stream",
     "text": [
      "rad= 10\n"
     ]
    }
   ],
   "source": [
    "c1.show()"
   ]
  },
  {
   "cell_type": "code",
   "execution_count": 97,
   "id": "7aVXxC2lzh91",
   "metadata": {
    "id": "7aVXxC2lzh91"
   },
   "outputs": [],
   "source": [
    "# 繼承的範例（二）\n",
    "class Radius:  # 父類別\n",
    "  def __init__(self, r):  # 父類別的 __init__()\n",
    "    self.rad = r\n",
    "\n",
    "  def show(self):\n",
    "    print('rad=', self.rad)\n",
    "\n",
    "\n",
    "class Circle(Radius):  # 子類別\n",
    "  def __init__(self, c, r=1):  # 子類別的 __init__()\n",
    "    super().__init__(r)  # 呼叫父類別的 __init__()\n",
    "    self.color = c\n",
    "\n",
    "  def area(self):\n",
    "    self.show()  # 呼叫由父類別繼承而來的 show()\n",
    "    return 3.14 * self.rad**2"
   ]
  },
  {
   "cell_type": "code",
   "execution_count": 98,
   "id": "zKA6h02gzde8",
   "metadata": {
    "id": "zKA6h02gzde8"
   },
   "outputs": [],
   "source": [
    "c1 = Circle('blue')"
   ]
  },
  {
   "cell_type": "code",
   "execution_count": 99,
   "id": "DINMLzLa1oPO",
   "metadata": {
    "colab": {
     "base_uri": "https://localhost:8080/"
    },
    "executionInfo": {
     "elapsed": 134,
     "status": "ok",
     "timestamp": 1650629037859,
     "user": {
      "displayName": "wien hong",
      "userId": "11131435925814580522"
     },
     "user_tz": -480
    },
    "id": "DINMLzLa1oPO",
    "outputId": "402c6411-125f-4b34-b130-7a34b98d2b29"
   },
   "outputs": [
    {
     "data": {
      "text/plain": [
       "1"
      ]
     },
     "execution_count": 99,
     "metadata": {},
     "output_type": "execute_result"
    }
   ],
   "source": [
    "c1.rad"
   ]
  },
  {
   "cell_type": "code",
   "execution_count": 100,
   "id": "NHp2BizG1sZO",
   "metadata": {
    "colab": {
     "base_uri": "https://localhost:8080/",
     "height": 35
    },
    "executionInfo": {
     "elapsed": 131,
     "status": "ok",
     "timestamp": 1650629037860,
     "user": {
      "displayName": "wien hong",
      "userId": "11131435925814580522"
     },
     "user_tz": -480
    },
    "id": "NHp2BizG1sZO",
    "outputId": "c51ff408-31b7-4cb4-b44c-ead6a51e78df"
   },
   "outputs": [
    {
     "data": {
      "text/plain": [
       "'blue'"
      ]
     },
     "execution_count": 100,
     "metadata": {},
     "output_type": "execute_result"
    }
   ],
   "source": [
    "c1.color"
   ]
  },
  {
   "cell_type": "code",
   "execution_count": 101,
   "id": "DdYtBlb32EQF",
   "metadata": {
    "colab": {
     "base_uri": "https://localhost:8080/"
    },
    "executionInfo": {
     "elapsed": 130,
     "status": "ok",
     "timestamp": 1650629037860,
     "user": {
      "displayName": "wien hong",
      "userId": "11131435925814580522"
     },
     "user_tz": -480
    },
    "id": "DdYtBlb32EQF",
    "outputId": "c319fd8e-7671-4e58-b2e3-8a6eb6f46e45"
   },
   "outputs": [
    {
     "name": "stdout",
     "output_type": "stream",
     "text": [
      "rad= 1\n"
     ]
    },
    {
     "data": {
      "text/plain": [
       "3.14"
      ]
     },
     "execution_count": 101,
     "metadata": {},
     "output_type": "execute_result"
    }
   ],
   "source": [
    "c1.area()"
   ]
  },
  {
   "cell_type": "code",
   "execution_count": 102,
   "id": "iCcRWNXJ3o0y",
   "metadata": {
    "colab": {
     "base_uri": "https://localhost:8080/"
    },
    "executionInfo": {
     "elapsed": 126,
     "status": "ok",
     "timestamp": 1650629037861,
     "user": {
      "displayName": "wien hong",
      "userId": "11131435925814580522"
     },
     "user_tz": -480
    },
    "id": "iCcRWNXJ3o0y",
    "outputId": "b842f61a-516a-4508-f81e-7e8bf096db09"
   },
   "outputs": [
    {
     "name": "stdout",
     "output_type": "stream",
     "text": [
      "rad= 1\n"
     ]
    }
   ],
   "source": [
    "c1.show()"
   ]
  },
  {
   "cell_type": "code",
   "execution_count": 103,
   "id": "skilled-fireplace",
   "metadata": {
    "id": "skilled-fireplace"
   },
   "outputs": [],
   "source": [
    "# 改寫 (Override)\n",
    "class Radius:  # 父類別\n",
    "  def __init__(self, r):\n",
    "    self.rad = r\n",
    "\n",
    "  def show(self):  # 父類別的show()\n",
    "    print('rad=', self.rad)\n",
    "\n",
    "\n",
    "class Circle(Radius):  # 子類別\n",
    "  def __init__(self, co, r=1):\n",
    "    super().__init__(r)\n",
    "    self.color = co\n",
    "\n",
    "  def show(self):  # 改寫父類別的show()\n",
    "    print('rad=', self.rad, 'color=', self.color)\n",
    "\n",
    "  def display(self):\n",
    "    self.show()  # 呼叫子類別的show()\n",
    "    super().show()  # 呼叫父類別的show()"
   ]
  },
  {
   "cell_type": "code",
   "execution_count": 104,
   "id": "tired-marine",
   "metadata": {
    "id": "tired-marine"
   },
   "outputs": [],
   "source": [
    "c1 = Circle('blue', 10)"
   ]
  },
  {
   "cell_type": "code",
   "execution_count": 105,
   "id": "zmc7gWYTcbEt",
   "metadata": {
    "colab": {
     "base_uri": "https://localhost:8080/"
    },
    "executionInfo": {
     "elapsed": 122,
     "status": "ok",
     "timestamp": 1650629037863,
     "user": {
      "displayName": "wien hong",
      "userId": "11131435925814580522"
     },
     "user_tz": -480
    },
    "id": "zmc7gWYTcbEt",
    "outputId": "3a5024eb-45ac-47d1-d2c8-12aea1517d00"
   },
   "outputs": [
    {
     "data": {
      "text/plain": [
       "10"
      ]
     },
     "execution_count": 105,
     "metadata": {},
     "output_type": "execute_result"
    }
   ],
   "source": [
    "c1.rad"
   ]
  },
  {
   "cell_type": "code",
   "execution_count": 106,
   "id": "NXBp2_co44d2",
   "metadata": {
    "colab": {
     "base_uri": "https://localhost:8080/"
    },
    "executionInfo": {
     "elapsed": 119,
     "status": "ok",
     "timestamp": 1650629037864,
     "user": {
      "displayName": "wien hong",
      "userId": "11131435925814580522"
     },
     "user_tz": -480
    },
    "id": "NXBp2_co44d2",
    "outputId": "eb92831f-9ed8-434b-8257-bf647232ed73"
   },
   "outputs": [
    {
     "name": "stdout",
     "output_type": "stream",
     "text": [
      "rad= 10 color= blue\n"
     ]
    }
   ],
   "source": [
    "c1.show()"
   ]
  },
  {
   "cell_type": "code",
   "execution_count": 107,
   "id": "dwHHkPjU5IuU",
   "metadata": {
    "colab": {
     "base_uri": "https://localhost:8080/"
    },
    "executionInfo": {
     "elapsed": 117,
     "status": "ok",
     "timestamp": 1650629037865,
     "user": {
      "displayName": "wien hong",
      "userId": "11131435925814580522"
     },
     "user_tz": -480
    },
    "id": "dwHHkPjU5IuU",
    "outputId": "5860f250-3aaa-4177-861e-85e4214df05c"
   },
   "outputs": [
    {
     "name": "stdout",
     "output_type": "stream",
     "text": [
      "rad= 10 color= blue\n",
      "rad= 10\n"
     ]
    }
   ],
   "source": [
    "c1.display()"
   ]
  },
  {
   "cell_type": "markdown",
   "id": "judicial-supply",
   "metadata": {
    "id": "judicial-supply"
   },
   "source": [
    "### 7.5 類別的進階認識"
   ]
  },
  {
   "cell_type": "markdown",
   "id": "recognized-harassment",
   "metadata": {
    "id": "recognized-harassment"
   },
   "source": [
    "#### 7.5.1 成員私有化的概念"
   ]
  },
  {
   "cell_type": "code",
   "execution_count": 108,
   "id": "fleet-estate",
   "metadata": {
    "id": "fleet-estate"
   },
   "outputs": [],
   "source": [
    "# 將成員私有化\n",
    "class Circle():\n",
    "  def __init__(self, r=1, c='red'):\n",
    "    self.__rad = r  # 私有屬性\n",
    "    self.color = c  # 公有屬性\n",
    "\n",
    "  def __area(self):  # 定義私有函數\n",
    "    return 3.14 * self.__rad**2\n",
    "\n",
    "  def print_area(self):\n",
    "    print('area=', self.__area())"
   ]
  },
  {
   "cell_type": "code",
   "execution_count": 109,
   "id": "tired-queen",
   "metadata": {
    "id": "tired-queen"
   },
   "outputs": [],
   "source": [
    "c1 = Circle(2, 'yellow')"
   ]
  },
  {
   "cell_type": "code",
   "execution_count": 110,
   "id": "unnecessary-background",
   "metadata": {
    "colab": {
     "base_uri": "https://localhost:8080/",
     "height": 35
    },
    "executionInfo": {
     "elapsed": 114,
     "status": "ok",
     "timestamp": 1650629037867,
     "user": {
      "displayName": "wien hong",
      "userId": "11131435925814580522"
     },
     "user_tz": -480
    },
    "id": "unnecessary-background",
    "outputId": "8bb3f9b1-97f8-48bd-ff2e-12e9a4b4da25"
   },
   "outputs": [
    {
     "data": {
      "text/plain": [
       "'yellow'"
      ]
     },
     "execution_count": 110,
     "metadata": {},
     "output_type": "execute_result"
    }
   ],
   "source": [
    "c1.color"
   ]
  },
  {
   "cell_type": "code",
   "execution_count": 111,
   "id": "intelligent-range",
   "metadata": {
    "id": "intelligent-range"
   },
   "outputs": [],
   "source": [
    "#c1.__rad"
   ]
  },
  {
   "cell_type": "code",
   "execution_count": 112,
   "id": "placed-controversy",
   "metadata": {
    "id": "placed-controversy"
   },
   "outputs": [],
   "source": [
    "#c1.__area()"
   ]
  },
  {
   "cell_type": "code",
   "execution_count": 113,
   "id": "cutting-terrace",
   "metadata": {
    "colab": {
     "base_uri": "https://localhost:8080/"
    },
    "executionInfo": {
     "elapsed": 116,
     "status": "ok",
     "timestamp": 1650629037871,
     "user": {
      "displayName": "wien hong",
      "userId": "11131435925814580522"
     },
     "user_tz": -480
    },
    "id": "cutting-terrace",
    "outputId": "9a3b792a-a109-4260-c0d4-a26ac756e0aa"
   },
   "outputs": [
    {
     "name": "stdout",
     "output_type": "stream",
     "text": [
      "area= 12.56\n"
     ]
    }
   ],
   "source": [
    "c1.print_area()"
   ]
  },
  {
   "cell_type": "code",
   "execution_count": 114,
   "id": "humanitarian-reverse",
   "metadata": {
    "id": "humanitarian-reverse"
   },
   "outputs": [],
   "source": [
    "# 撰寫 Getter 與 Setter\n",
    "class Circle():\n",
    "  def __init__(self, r=1):\n",
    "    self.set_rad(r)  # 直接呼叫Setter\n",
    "\n",
    "  def get_rad(self):  # 定義公有的Getter\n",
    "    print('Getter called')\n",
    "    return self.__rad\n",
    "\n",
    "  def set_rad(self, r):  # 定義公有的Setter\n",
    "    print('Setter called')\n",
    "    if r > 0:\n",
    "      self.__rad = r\n",
    "    else:\n",
    "      print('Input error')\n",
    "      self.__rad = 0"
   ]
  },
  {
   "cell_type": "code",
   "execution_count": 115,
   "id": "demanding-minority",
   "metadata": {
    "colab": {
     "base_uri": "https://localhost:8080/"
    },
    "executionInfo": {
     "elapsed": 115,
     "status": "ok",
     "timestamp": 1650629037874,
     "user": {
      "displayName": "wien hong",
      "userId": "11131435925814580522"
     },
     "user_tz": -480
    },
    "id": "demanding-minority",
    "outputId": "d4fcb597-c3d3-4582-f8c9-8ed39efc9f0c"
   },
   "outputs": [
    {
     "name": "stdout",
     "output_type": "stream",
     "text": [
      "Setter called\n"
     ]
    }
   ],
   "source": [
    "c1 = Circle(6)"
   ]
  },
  {
   "cell_type": "code",
   "execution_count": 116,
   "id": "descending-cannon",
   "metadata": {
    "colab": {
     "base_uri": "https://localhost:8080/"
    },
    "executionInfo": {
     "elapsed": 113,
     "status": "ok",
     "timestamp": 1650629037875,
     "user": {
      "displayName": "wien hong",
      "userId": "11131435925814580522"
     },
     "user_tz": -480
    },
    "id": "descending-cannon",
    "outputId": "e286908b-b8f6-447e-fad0-5fc1c109688b"
   },
   "outputs": [
    {
     "name": "stdout",
     "output_type": "stream",
     "text": [
      "Getter called\n"
     ]
    },
    {
     "data": {
      "text/plain": [
       "6"
      ]
     },
     "execution_count": 116,
     "metadata": {},
     "output_type": "execute_result"
    }
   ],
   "source": [
    "c1.get_rad()"
   ]
  },
  {
   "cell_type": "code",
   "execution_count": 117,
   "id": "molecular-arrangement",
   "metadata": {
    "colab": {
     "base_uri": "https://localhost:8080/"
    },
    "executionInfo": {
     "elapsed": 110,
     "status": "ok",
     "timestamp": 1650629037876,
     "user": {
      "displayName": "wien hong",
      "userId": "11131435925814580522"
     },
     "user_tz": -480
    },
    "id": "molecular-arrangement",
    "outputId": "42d917d6-17b9-4326-b7f5-7619ef41acac"
   },
   "outputs": [
    {
     "name": "stdout",
     "output_type": "stream",
     "text": [
      "Setter called\n"
     ]
    }
   ],
   "source": [
    "c1.set_rad(12)"
   ]
  },
  {
   "cell_type": "code",
   "execution_count": 118,
   "id": "regular-cable",
   "metadata": {
    "colab": {
     "base_uri": "https://localhost:8080/"
    },
    "executionInfo": {
     "elapsed": 108,
     "status": "ok",
     "timestamp": 1650629037877,
     "user": {
      "displayName": "wien hong",
      "userId": "11131435925814580522"
     },
     "user_tz": -480
    },
    "id": "regular-cable",
    "outputId": "4c0d469c-a2cd-4034-bab6-1750f9be3aa5"
   },
   "outputs": [
    {
     "name": "stdout",
     "output_type": "stream",
     "text": [
      "Getter called\n"
     ]
    },
    {
     "data": {
      "text/plain": [
       "12"
      ]
     },
     "execution_count": 118,
     "metadata": {},
     "output_type": "execute_result"
    }
   ],
   "source": [
    "c1.get_rad()"
   ]
  },
  {
   "cell_type": "code",
   "execution_count": 119,
   "id": "typical-thirty",
   "metadata": {
    "id": "typical-thirty"
   },
   "outputs": [],
   "source": [
    "# c1.__rad"
   ]
  },
  {
   "cell_type": "code",
   "execution_count": 120,
   "id": "square-occurrence",
   "metadata": {
    "colab": {
     "base_uri": "https://localhost:8080/"
    },
    "executionInfo": {
     "elapsed": 106,
     "status": "ok",
     "timestamp": 1650629037879,
     "user": {
      "displayName": "wien hong",
      "userId": "11131435925814580522"
     },
     "user_tz": -480
    },
    "id": "square-occurrence",
    "outputId": "f64b6339-be4a-4854-fcf6-8d7ada2f9473"
   },
   "outputs": [
    {
     "name": "stdout",
     "output_type": "stream",
     "text": [
      "Setter called\n",
      "Input error\n"
     ]
    }
   ],
   "source": [
    "c1.set_rad(-12)"
   ]
  },
  {
   "cell_type": "code",
   "execution_count": 121,
   "id": "adopted-shareware",
   "metadata": {
    "colab": {
     "base_uri": "https://localhost:8080/"
    },
    "executionInfo": {
     "elapsed": 102,
     "status": "ok",
     "timestamp": 1650629037879,
     "user": {
      "displayName": "wien hong",
      "userId": "11131435925814580522"
     },
     "user_tz": -480
    },
    "id": "adopted-shareware",
    "outputId": "a6526b6f-89fe-4f4d-e35d-02fc47a82cf4"
   },
   "outputs": [
    {
     "name": "stdout",
     "output_type": "stream",
     "text": [
      "Getter called\n"
     ]
    },
    {
     "data": {
      "text/plain": [
       "0"
      ]
     },
     "execution_count": 121,
     "metadata": {},
     "output_type": "execute_result"
    }
   ],
   "source": [
    "c1.get_rad()"
   ]
  },
  {
   "cell_type": "code",
   "execution_count": 122,
   "id": "previous-wisdom",
   "metadata": {
    "colab": {
     "base_uri": "https://localhost:8080/"
    },
    "executionInfo": {
     "elapsed": 99,
     "status": "ok",
     "timestamp": 1650629037880,
     "user": {
      "displayName": "wien hong",
      "userId": "11131435925814580522"
     },
     "user_tz": -480
    },
    "id": "previous-wisdom",
    "outputId": "6547fca4-9617-4af8-86b3-14377faeee99"
   },
   "outputs": [
    {
     "name": "stdout",
     "output_type": "stream",
     "text": [
      "Setter called\n",
      "Input error\n"
     ]
    }
   ],
   "source": [
    "c2 = Circle(-10)"
   ]
  },
  {
   "cell_type": "code",
   "execution_count": 123,
   "id": "hearing-watts",
   "metadata": {
    "colab": {
     "base_uri": "https://localhost:8080/"
    },
    "executionInfo": {
     "elapsed": 96,
     "status": "ok",
     "timestamp": 1650629037880,
     "user": {
      "displayName": "wien hong",
      "userId": "11131435925814580522"
     },
     "user_tz": -480
    },
    "id": "hearing-watts",
    "outputId": "43ed8c54-e87e-4f60-89a2-d1445165d29f"
   },
   "outputs": [
    {
     "name": "stdout",
     "output_type": "stream",
     "text": [
      "Getter called\n"
     ]
    },
    {
     "data": {
      "text/plain": [
       "0"
      ]
     },
     "execution_count": 123,
     "metadata": {},
     "output_type": "execute_result"
    }
   ],
   "source": [
    "c2.get_rad()"
   ]
  },
  {
   "cell_type": "markdown",
   "id": "printable-machine",
   "metadata": {
    "id": "printable-machine"
   },
   "source": [
    "#### 7.5.2 使用 @property 修飾子"
   ]
  },
  {
   "cell_type": "code",
   "execution_count": 124,
   "id": "abandoned-cheat",
   "metadata": {
    "id": "abandoned-cheat"
   },
   "outputs": [],
   "source": [
    "# 使用 @property 修飾子\n",
    "class Circle():\n",
    "  @property  # getter\n",
    "  def radius(self):\n",
    "    print('Getter called')\n",
    "    return self.rad\n",
    "\n",
    "  @radius.setter  # setter, 名稱必須和 getter 一樣\n",
    "  def radius(self, r):\n",
    "    print('Setter called')\n",
    "    self.rad = r"
   ]
  },
  {
   "cell_type": "code",
   "execution_count": 125,
   "id": "adjustable-archive",
   "metadata": {
    "id": "adjustable-archive"
   },
   "outputs": [],
   "source": [
    "c1 = Circle()"
   ]
  },
  {
   "cell_type": "code",
   "execution_count": 126,
   "id": "amino-tuesday",
   "metadata": {
    "colab": {
     "base_uri": "https://localhost:8080/"
    },
    "executionInfo": {
     "elapsed": 93,
     "status": "ok",
     "timestamp": 1650629037883,
     "user": {
      "displayName": "wien hong",
      "userId": "11131435925814580522"
     },
     "user_tz": -480
    },
    "id": "amino-tuesday",
    "outputId": "0cdbc510-8452-4cff-e1dc-a783997aed27"
   },
   "outputs": [
    {
     "name": "stdout",
     "output_type": "stream",
     "text": [
      "Setter called\n"
     ]
    }
   ],
   "source": [
    "c1.radius = 10"
   ]
  },
  {
   "cell_type": "code",
   "execution_count": 127,
   "id": "induced-paradise",
   "metadata": {
    "colab": {
     "base_uri": "https://localhost:8080/"
    },
    "executionInfo": {
     "elapsed": 90,
     "status": "ok",
     "timestamp": 1650629037884,
     "user": {
      "displayName": "wien hong",
      "userId": "11131435925814580522"
     },
     "user_tz": -480
    },
    "id": "induced-paradise",
    "outputId": "70f56665-c673-457f-ddae-06bf50a69f43"
   },
   "outputs": [
    {
     "name": "stdout",
     "output_type": "stream",
     "text": [
      "Getter called\n"
     ]
    },
    {
     "data": {
      "text/plain": [
       "10"
      ]
     },
     "execution_count": 127,
     "metadata": {},
     "output_type": "execute_result"
    }
   ],
   "source": [
    "c1.radius"
   ]
  },
  {
   "cell_type": "code",
   "execution_count": 128,
   "id": "binding-syndicate",
   "metadata": {
    "id": "binding-syndicate"
   },
   "outputs": [],
   "source": [
    "# 使用Getter和Setter的完整範例\n",
    "class Circle():\n",
    "  def __init__(self, r=1):\n",
    "    print('__init__() called')\n",
    "    self.radius = r\n",
    "\n",
    "  def print_area(self):\n",
    "    print('area=', 3.14 * self.rad**2)\n",
    "\n",
    "  @property  # 定義第1個getter,用來傳回物件的rad屬性\n",
    "  def radius(self):\n",
    "    print('Getter radius() called')\n",
    "    return self.rad\n",
    "\n",
    "  @property  # 定義第2個getter,用來傳回物件的圓面積\n",
    "  def area(self):\n",
    "    print('Getter area() called')\n",
    "    return 3.14 * self.rad**2\n",
    "\n",
    "  @radius.setter  # 定義Setter,用來設定物件的rad屬性\n",
    "  def radius(self, r):\n",
    "    print('Setter radius() called')\n",
    "    if r > 0:\n",
    "      self.rad = r\n",
    "    else:\n",
    "      print('Input error')\n",
    "      self.rad = 0"
   ]
  },
  {
   "cell_type": "code",
   "execution_count": 129,
   "id": "wireless-failing",
   "metadata": {
    "colab": {
     "base_uri": "https://localhost:8080/"
    },
    "executionInfo": {
     "elapsed": 87,
     "status": "ok",
     "timestamp": 1650629037885,
     "user": {
      "displayName": "wien hong",
      "userId": "11131435925814580522"
     },
     "user_tz": -480
    },
    "id": "wireless-failing",
    "outputId": "cb608dc2-3da2-4eeb-8be6-04fb3b64396f"
   },
   "outputs": [
    {
     "name": "stdout",
     "output_type": "stream",
     "text": [
      "__init__() called\n",
      "Setter radius() called\n"
     ]
    }
   ],
   "source": [
    "c1 = Circle(2)"
   ]
  },
  {
   "cell_type": "code",
   "execution_count": 130,
   "id": "touched-pasta",
   "metadata": {
    "colab": {
     "base_uri": "https://localhost:8080/"
    },
    "executionInfo": {
     "elapsed": 83,
     "status": "ok",
     "timestamp": 1650629037886,
     "user": {
      "displayName": "wien hong",
      "userId": "11131435925814580522"
     },
     "user_tz": -480
    },
    "id": "touched-pasta",
    "outputId": "ca5a384d-24ec-4250-9bac-69132762a323"
   },
   "outputs": [
    {
     "name": "stdout",
     "output_type": "stream",
     "text": [
      "Getter radius() called\n"
     ]
    },
    {
     "data": {
      "text/plain": [
       "2"
      ]
     },
     "execution_count": 130,
     "metadata": {},
     "output_type": "execute_result"
    }
   ],
   "source": [
    "c1.radius"
   ]
  },
  {
   "cell_type": "code",
   "execution_count": 131,
   "id": "destroyed-tragedy",
   "metadata": {
    "colab": {
     "base_uri": "https://localhost:8080/"
    },
    "executionInfo": {
     "elapsed": 80,
     "status": "ok",
     "timestamp": 1650629037887,
     "user": {
      "displayName": "wien hong",
      "userId": "11131435925814580522"
     },
     "user_tz": -480
    },
    "id": "destroyed-tragedy",
    "outputId": "fb13ea5f-337a-4e09-8661-c8b476cc8018"
   },
   "outputs": [
    {
     "name": "stdout",
     "output_type": "stream",
     "text": [
      "area= 12.56\n"
     ]
    }
   ],
   "source": [
    "c1.print_area()"
   ]
  },
  {
   "cell_type": "code",
   "execution_count": 132,
   "id": "junior-florida",
   "metadata": {
    "colab": {
     "base_uri": "https://localhost:8080/"
    },
    "executionInfo": {
     "elapsed": 76,
     "status": "ok",
     "timestamp": 1650629037887,
     "user": {
      "displayName": "wien hong",
      "userId": "11131435925814580522"
     },
     "user_tz": -480
    },
    "id": "junior-florida",
    "outputId": "ca8aa712-fb2b-422f-860e-c84f2fa367d2"
   },
   "outputs": [
    {
     "name": "stdout",
     "output_type": "stream",
     "text": [
      "Getter area() called\n"
     ]
    },
    {
     "data": {
      "text/plain": [
       "12.56"
      ]
     },
     "execution_count": 132,
     "metadata": {},
     "output_type": "execute_result"
    }
   ],
   "source": [
    "c1.area"
   ]
  },
  {
   "cell_type": "code",
   "execution_count": 133,
   "id": "indian-acquisition",
   "metadata": {
    "colab": {
     "base_uri": "https://localhost:8080/"
    },
    "executionInfo": {
     "elapsed": 75,
     "status": "ok",
     "timestamp": 1650629037890,
     "user": {
      "displayName": "wien hong",
      "userId": "11131435925814580522"
     },
     "user_tz": -480
    },
    "id": "indian-acquisition",
    "outputId": "c173e311-5add-456f-8799-9e944798cab0"
   },
   "outputs": [
    {
     "name": "stdout",
     "output_type": "stream",
     "text": [
      "Setter radius() called\n",
      "Input error\n"
     ]
    }
   ],
   "source": [
    "c1.radius = -10"
   ]
  },
  {
   "cell_type": "code",
   "execution_count": 134,
   "id": "dedicated-specific",
   "metadata": {
    "colab": {
     "base_uri": "https://localhost:8080/"
    },
    "executionInfo": {
     "elapsed": 74,
     "status": "ok",
     "timestamp": 1650629037892,
     "user": {
      "displayName": "wien hong",
      "userId": "11131435925814580522"
     },
     "user_tz": -480
    },
    "id": "dedicated-specific",
    "outputId": "34bd165e-4079-45ba-a317-0b71ac67de92"
   },
   "outputs": [
    {
     "name": "stdout",
     "output_type": "stream",
     "text": [
      "Setter radius() called\n"
     ]
    }
   ],
   "source": [
    "c1.radius = 10"
   ]
  },
  {
   "cell_type": "code",
   "execution_count": 135,
   "id": "above-bandwidth",
   "metadata": {
    "colab": {
     "base_uri": "https://localhost:8080/"
    },
    "executionInfo": {
     "elapsed": 71,
     "status": "ok",
     "timestamp": 1650629037893,
     "user": {
      "displayName": "wien hong",
      "userId": "11131435925814580522"
     },
     "user_tz": -480
    },
    "id": "above-bandwidth",
    "outputId": "ce8046de-ccfb-46f6-89a7-8613a6fd3826"
   },
   "outputs": [
    {
     "name": "stdout",
     "output_type": "stream",
     "text": [
      "Getter radius() called\n"
     ]
    },
    {
     "data": {
      "text/plain": [
       "10"
      ]
     },
     "execution_count": 135,
     "metadata": {},
     "output_type": "execute_result"
    }
   ],
   "source": [
    "c1.radius"
   ]
  },
  {
   "cell_type": "code",
   "execution_count": 136,
   "id": "harmful-voice",
   "metadata": {
    "colab": {
     "base_uri": "https://localhost:8080/"
    },
    "executionInfo": {
     "elapsed": 68,
     "status": "ok",
     "timestamp": 1650629037894,
     "user": {
      "displayName": "wien hong",
      "userId": "11131435925814580522"
     },
     "user_tz": -480
    },
    "id": "harmful-voice",
    "outputId": "b3069276-e517-4853-cecb-db2713b9b52a"
   },
   "outputs": [
    {
     "name": "stdout",
     "output_type": "stream",
     "text": [
      "__init__() called\n",
      "Setter radius() called\n",
      "Input error\n"
     ]
    }
   ],
   "source": [
    "c2 = Circle(-5)"
   ]
  },
  {
   "cell_type": "code",
   "execution_count": 137,
   "id": "distributed-action",
   "metadata": {
    "colab": {
     "base_uri": "https://localhost:8080/"
    },
    "executionInfo": {
     "elapsed": 66,
     "status": "ok",
     "timestamp": 1650629037895,
     "user": {
      "displayName": "wien hong",
      "userId": "11131435925814580522"
     },
     "user_tz": -480
    },
    "id": "distributed-action",
    "outputId": "d4956d22-8f15-4304-d3b1-c79f9b1f6c42"
   },
   "outputs": [
    {
     "name": "stdout",
     "output_type": "stream",
     "text": [
      "Getter area() called\n"
     ]
    },
    {
     "data": {
      "text/plain": [
       "0.0"
      ]
     },
     "execution_count": 137,
     "metadata": {},
     "output_type": "execute_result"
    }
   ],
   "source": [
    "c2.area"
   ]
  },
  {
   "cell_type": "code",
   "execution_count": 138,
   "id": "devoted-personal",
   "metadata": {
    "colab": {
     "base_uri": "https://localhost:8080/"
    },
    "executionInfo": {
     "elapsed": 63,
     "status": "ok",
     "timestamp": 1650629037896,
     "user": {
      "displayName": "wien hong",
      "userId": "11131435925814580522"
     },
     "user_tz": -480
    },
    "id": "devoted-personal",
    "outputId": "e7be04e2-f96f-498e-fd15-644a1b443693"
   },
   "outputs": [
    {
     "name": "stdout",
     "output_type": "stream",
     "text": [
      "__init__() called\n",
      "Setter radius() called\n",
      "Getter area() called\n"
     ]
    },
    {
     "data": {
      "text/plain": [
       "78.5"
      ]
     },
     "execution_count": 138,
     "metadata": {},
     "output_type": "execute_result"
    }
   ],
   "source": [
    "Circle(5).area"
   ]
  }
 ],
 "metadata": {
  "colab": {
   "collapsed_sections": [],
   "name": "第07章-物件導向程式設計.ipynb",
   "provenance": [
    {
     "file_id": "16WitJcxjmvBThEXedLQnQLxDy4eHaCOz",
     "timestamp": 1650528084608
    },
    {
     "file_id": "1NgKwFkiSHLkqhThP6GaJqmC3roGxhFSA",
     "timestamp": 1649122819140
    }
   ]
  },
  "kernelspec": {
   "display_name": "Python 3 (ipykernel)",
   "language": "python",
   "name": "python3"
  },
  "language_info": {
   "codemirror_mode": {
    "name": "ipython",
    "version": 3
   },
   "file_extension": ".py",
   "mimetype": "text/x-python",
   "name": "python",
   "nbconvert_exporter": "python",
   "pygments_lexer": "ipython3",
   "version": "3.8.13"
  },
  "toc": {
   "base_numbering": 1,
   "nav_menu": {},
   "number_sections": true,
   "sideBar": true,
   "skip_h1_title": false,
   "title_cell": "Table of Contents",
   "title_sidebar": "Contents",
   "toc_cell": false,
   "toc_position": {},
   "toc_section_display": true,
   "toc_window_display": false
  },
  "varInspector": {
   "cols": {
    "lenName": 16,
    "lenType": 16,
    "lenVar": 40
   },
   "kernels_config": {
    "python": {
     "delete_cmd_postfix": "",
     "delete_cmd_prefix": "del ",
     "library": "var_list.py",
     "varRefreshCmd": "print(var_dic_list())"
    },
    "r": {
     "delete_cmd_postfix": ") ",
     "delete_cmd_prefix": "rm(",
     "library": "var_list.r",
     "varRefreshCmd": "cat(var_dic_list()) "
    }
   },
   "types_to_exclude": [
    "module",
    "function",
    "builtin_function_or_method",
    "instance",
    "_Feature"
   ],
   "window_display": false
  }
 },
 "nbformat": 4,
 "nbformat_minor": 5
}
