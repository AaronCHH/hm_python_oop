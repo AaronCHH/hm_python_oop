{
 "cells": [
  {
   "cell_type": "code",
   "execution_count": 12,
   "id": "892c34ec-e5f9-4768-a3de-7f5acb4eca40",
   "metadata": {},
   "outputs": [],
   "source": [
    "# %load CH_8_2_EX_1_Class_Definition.py\n",
    "# -----------------------------------\n",
    "#  CH_8_2_EX_1_Class_Definition.py\n",
    "# -----------------------------------\n",
    "class Human:\n",
    "  def __init__(self, height, weight):\n",
    "    self.height = height\n",
    "    self.weight = weight\n",
    "\n",
    "  def BMI(self):\n",
    "    return self.weight / ((self.height/100)**2)"
   ]
  },
  {
   "cell_type": "code",
   "execution_count": 13,
   "id": "467f725e-c163-4900-874c-32aa6f7d6bf2",
   "metadata": {},
   "outputs": [
    {
     "name": "stdout",
     "output_type": "stream",
     "text": [
      "180\n",
      "88\n",
      "27.160493827160494\n"
     ]
    }
   ],
   "source": [
    "# %load CH_8_2_EX_2_Object_Creation_1.py\n",
    "# -------------------------------------\n",
    "#   CH_8_2_EX_2_Object_Creation_1.py\n",
    "# -------------------------------------\n",
    "class Human:\n",
    "  def __init__(self, height, weight):\n",
    "    self.height = height\n",
    "    self.weight = weight\n",
    "\n",
    "  def BMI(self):\n",
    "    return self.weight / ((self.height/100)**2)\n",
    "\n",
    "\n",
    "# 建立物件\n",
    "model_Bill = Human(180, 88)\n",
    "\n",
    "# 印出物件兩個屬性\n",
    "print(model_Bill.height)\n",
    "print(model_Bill.weight)\n",
    "\n",
    "# 使用物件方法\n",
    "print(model_Bill.BMI())"
   ]
  },
  {
   "cell_type": "code",
   "execution_count": 14,
   "id": "1043c991-55ab-4449-86a3-1c5609d7119f",
   "metadata": {},
   "outputs": [
    {
     "name": "stdout",
     "output_type": "stream",
     "text": [
      "品牌:Nissan\n",
      "型號:X Trail\n",
      "規格:4座位2400CC\n"
     ]
    }
   ],
   "source": [
    "# %load CH_8_2_EX_3_Object_Creation_2.py\n",
    "# -------------------------------------\n",
    "#   CH_8_2_EX_3_Object_Creation_2.py\n",
    "# -------------------------------------\n",
    "class Car:\n",
    "  def __init__(self, brand, model, seats, cc):\n",
    "    self.brand = brand\n",
    "    self.model = model\n",
    "    self.seats = seats\n",
    "    self.cc = cc\n",
    "\n",
    "  def display(self):\n",
    "    s = \"品牌:\"+self.brand + \"\\r\\n\"\n",
    "    s = s + \"型號:\" + self.model + \"\\r\\n\"\n",
    "    s = s + \"規格:\" + self.seats + \"座位\" + self.cc + \"CC\"\n",
    "    return s\n",
    "\n",
    "\n",
    "# 建立物件\n",
    "mycar1 = Car(\"Nissan\", \"X Trail\", \"4\", \"2400\")\n",
    "\n",
    "# 使用物件方法\n",
    "print(mycar1.display())"
   ]
  },
  {
   "cell_type": "code",
   "execution_count": 16,
   "id": "76b45914-9e8c-4dc1-a5b8-f82e7c603f14",
   "metadata": {},
   "outputs": [],
   "source": [
    "# %load CH_8_3_EX_1_Inheritance.py\n",
    "# -------------------------------\n",
    "#   CH_8_3_EX_1_Inheritance.py\n",
    "# -------------------------------\n",
    "class Car:\n",
    "  def __init__(self, brand, model, seats, cc):\n",
    "    self.brand = brand\n",
    "    self.model = model\n",
    "    self.seats = seats\n",
    "    self.cc = cc\n",
    "\n",
    "  def display(self):\n",
    "    s = \"品牌:\"+self.brand + \"\\r\\n\"\n",
    "    s = s + \"型號:\" + self.model + \"\\r\\n\"\n",
    "    s = s + \"規格:\" + self.seats + \"座位\" + self.cc + \"CC\"\n",
    "    return s\n",
    "\n",
    "# Truck類別繼承Car類別\n",
    "\n",
    "\n",
    "class Truck(Car):\n",
    "  pass"
   ]
  },
  {
   "cell_type": "code",
   "execution_count": 17,
   "id": "cbea02c3-6bc8-4b1b-ba07-90b3d5194efe",
   "metadata": {},
   "outputs": [
    {
     "name": "stdout",
     "output_type": "stream",
     "text": [
      "品牌:Nissan\n",
      "型號:X Trail\n",
      "規格:4座位2400CC\n",
      "------------------------------\n",
      "本卡車是Ford F-150\n",
      "2700CC\n",
      "目前重量為2.2噸\n",
      "\n"
     ]
    }
   ],
   "source": [
    "# %load CH_8_3_EX_2_Inheritance_Using_Override_Function.py\n",
    "# -------------------------------------------------------\n",
    "#   CH_8_3_EX_2_Inheritance_Using_Override_Function.py\n",
    "# -------------------------------------------------------\n",
    "from MyClass import Car\n",
    "\n",
    "\n",
    "class Truck(Car):\n",
    "  # -----新增loading載重屬性\n",
    "  def __init__(self, brand, model, seats, cc, loading):\n",
    "\n",
    "    # -----使用super()\n",
    "    super().__init__(brand, model, seats, cc)\n",
    "    self.loading = loading\n",
    "\n",
    "# -----覆寫display()方法\n",
    "  def display(self):\n",
    "    s = \"本卡車是\" + self.brand + \" \"+self.model + \"\\r\\n\"\n",
    "    s = s + self.cc + \"CC\" + \"\\r\\n\"\n",
    "    s = s + \"目前重量為\" + self.loading + \"噸\" + \"\\r\\n\"\n",
    "    return s\n",
    "\n",
    "\n",
    "# -----建立物件\n",
    "mycar1 = Car(\"Nissan\", \"X Trail\", \"4\", \"2400\")\n",
    "mytruck1 = Truck(\"Ford\", \"F-150\", \"2\", \"2700\", \"2.2\")\n",
    "\n",
    "# -----使用物件方法\n",
    "print(mycar1.display())\n",
    "print(\"-\"*30)\n",
    "print(mytruck1.display())"
   ]
  },
  {
   "cell_type": "code",
   "execution_count": 18,
   "id": "87766bf8-079a-473c-8a5f-0efee6bde856",
   "metadata": {},
   "outputs": [],
   "source": [
    "# %load CH_8_3_EX_2_Inheritance_Using_Super_Fuction.py\n",
    "# ---------------------------------------------------\n",
    "#   CH_8_3_EX_2_Inheritance_Using_Super_Fuction.py\n",
    "# ---------------------------------------------------\n",
    "from MyClass import Car\n",
    "\n",
    "\n",
    "class Truck(Car):\n",
    "  #----- 新增loading載重屬性\n",
    "  def __init__(self, brand, model, seats, cc, loading):\n",
    "\n",
    "    #----- 使用super()\n",
    "    super().__init__(brand, model, seats, cc)\n",
    "    self.loading = loading"
   ]
  },
  {
   "cell_type": "code",
   "execution_count": 19,
   "id": "cb225737-f861-4187-81e5-4aafe9194372",
   "metadata": {},
   "outputs": [
    {
     "name": "stdout",
     "output_type": "stream",
     "text": [
      "27.160493827160494\n"
     ]
    }
   ],
   "source": [
    "# %load CH_8_4_EX_1_Encapsulation_1.py\n",
    "# -----------------------------------\n",
    "#   CH_8_4_EX_1_Encapsulation_1.py\n",
    "# -----------------------------------\n",
    "class Human:\n",
    "  def __init__(self, height, weight):\n",
    "    self.__height = height\n",
    "    self.__weight = weight\n",
    "\n",
    "  def BMI(self):\n",
    "    return self.__weight / ((self.__height/100)**2)\n",
    "\n",
    "\n",
    "# -----建立物件\n",
    "model_Bill = Human(180, 88)\n",
    "\n",
    "# -----使用物件方法\n",
    "print(model_Bill.BMI())"
   ]
  },
  {
   "cell_type": "code",
   "execution_count": 20,
   "id": "36a5d4ae-a6e8-45f4-97f5-1eca84ea7df0",
   "metadata": {},
   "outputs": [
    {
     "ename": "AttributeError",
     "evalue": "'Human' object has no attribute '__height'",
     "output_type": "error",
     "traceback": [
      "\u001b[1;31m---------------------------------------------------------------------------\u001b[0m",
      "\u001b[1;31mAttributeError\u001b[0m                            Traceback (most recent call last)",
      "Cell \u001b[1;32mIn [20], line 18\u001b[0m\n\u001b[0;32m     15\u001b[0m model_Bill \u001b[38;5;241m=\u001b[39m Human(\u001b[38;5;241m180\u001b[39m, \u001b[38;5;241m88\u001b[39m)\n\u001b[0;32m     17\u001b[0m \u001b[38;5;66;03m# -----印出物件兩個屬性\u001b[39;00m\n\u001b[1;32m---> 18\u001b[0m \u001b[38;5;28mprint\u001b[39m(\u001b[43mmodel_Bill\u001b[49m\u001b[38;5;241;43m.\u001b[39;49m\u001b[43m__height\u001b[49m)\n\u001b[0;32m     19\u001b[0m \u001b[38;5;28mprint\u001b[39m(model_Bill\u001b[38;5;241m.\u001b[39m__weight)\n",
      "\u001b[1;31mAttributeError\u001b[0m: 'Human' object has no attribute '__height'"
     ]
    }
   ],
   "source": [
    "# %load CH_8_4_EX_2_Encapsulation_2.py\n",
    "# -----------------------------------\n",
    "#   CH_8_4_EX_2_Encapsulation_2.py\n",
    "# -----------------------------------\n",
    "class Human:\n",
    "  def __init__(self, height, weight):\n",
    "    self.__height = height\n",
    "    self.__weight = weight\n",
    "\n",
    "  def BMI(self):\n",
    "    return self.__weight / ((self.__height/100)**2)\n",
    "\n",
    "\n",
    "# -----建立物件\n",
    "model_Bill = Human(180, 88)\n",
    "\n",
    "# -----印出物件兩個屬性\n",
    "print(model_Bill.__height)\n",
    "print(model_Bill.__weight)"
   ]
  },
  {
   "cell_type": "code",
   "execution_count": 21,
   "id": "1b28d626-1483-4150-8c7c-75f2acf19b42",
   "metadata": {},
   "outputs": [
    {
     "name": "stdout",
     "output_type": "stream",
     "text": [
      "50.0\n",
      "78.5\n"
     ]
    }
   ],
   "source": [
    "# %load CH_8_5_EX_1_ Polymorphism.py\n",
    "# ---------------------------------\n",
    "#   CH_8_5_EX_1_ Polymorphism.py\n",
    "# ---------------------------------\n",
    "class Mymath:\n",
    "  def getArea(self, radiusorbase, height=None):\n",
    "    if height is not None:\n",
    "      return (radiusorbase * (height / 2))\n",
    "    else:\n",
    "      return (3.14 * (radiusorbase * radiusorbase))\n",
    "\n",
    "\n",
    "# -----建立物件\n",
    "obj = Mymath()\n",
    "\n",
    "# -----輸入兩個參數呼叫方法計算三角形面積\n",
    "print(obj.getArea(10, 10))\n",
    "\n",
    "# -----輸入一個參數呼叫方法計算圓形面積\n",
    "print(obj.getArea(5))"
   ]
  },
  {
   "cell_type": "code",
   "execution_count": 22,
   "id": "037c870f-d1d4-40e7-8fff-70e8adbd5a5b",
   "metadata": {},
   "outputs": [],
   "source": [
    "# %load MyClass.py\n",
    "# -------------------------------\n",
    "#   Car.py\n",
    "# -------------------------------\n",
    "class Car:\n",
    "  def __init__(self, brand, model, seats, cc):\n",
    "    self.brand = brand\n",
    "    self.model = model\n",
    "    self.seats = seats\n",
    "    self.cc = cc\n",
    "\n",
    "  def display(self):\n",
    "    s = \"品牌:\"+self.brand + \"\\r\\n\"\n",
    "    s = s + \"型號:\" + self.model + \"\\r\\n\"\n",
    "    s = s + \"規格:\" + self.seats + \"座位\" + self.cc + \"CC\"\n",
    "    return s"
   ]
  },
  {
   "cell_type": "code",
   "execution_count": null,
   "id": "1f59ff5a-82d6-4354-9664-0217843550f8",
   "metadata": {},
   "outputs": [],
   "source": []
  }
 ],
 "metadata": {
  "kernelspec": {
   "display_name": "Python 3 (ipykernel)",
   "language": "python",
   "name": "python3"
  },
  "language_info": {
   "codemirror_mode": {
    "name": "ipython",
    "version": 3
   },
   "file_extension": ".py",
   "mimetype": "text/x-python",
   "name": "python",
   "nbconvert_exporter": "python",
   "pygments_lexer": "ipython3",
   "version": "3.8.13"
  }
 },
 "nbformat": 4,
 "nbformat_minor": 5
}
